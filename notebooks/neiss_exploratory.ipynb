{
 "cells": [
  {
   "cell_type": "code",
   "execution_count": 1,
   "metadata": {
    "ExecuteTime": {
     "end_time": "2016-10-20T19:16:12.130051",
     "start_time": "2016-10-20T19:16:10.792428"
    },
    "collapsed": false
   },
   "outputs": [],
   "source": [
    "import dask.dataframe as dd\n",
    "import pandas as pd\n",
    "import dask.multiprocessing\n",
    "\n",
    "import plotly.plotly as py\n",
    "import plotly.graph_objs as go\n",
    "import plotly.tools as tls\n",
    "# from dask.distributed import Executor\n",
    "# e = Executor(set_as_default=True)"
   ]
  },
  {
   "cell_type": "code",
   "execution_count": 2,
   "metadata": {
    "ExecuteTime": {
     "end_time": "2016-10-20T19:16:12.963213",
     "start_time": "2016-10-20T19:16:12.131823"
    },
    "collapsed": false,
    "scrolled": true
   },
   "outputs": [
    {
     "data": {
      "text/html": [
       "<div>\n",
       "<table border=\"1\" class=\"dataframe\">\n",
       "  <thead>\n",
       "    <tr style=\"text-align: right;\">\n",
       "      <th></th>\n",
       "      <th>CPSC Case #</th>\n",
       "      <th>trmt_date</th>\n",
       "      <th>psu</th>\n",
       "      <th>weight</th>\n",
       "      <th>stratum</th>\n",
       "      <th>age</th>\n",
       "      <th>sex</th>\n",
       "      <th>race</th>\n",
       "      <th>race_other</th>\n",
       "      <th>diag</th>\n",
       "      <th>diag_other</th>\n",
       "      <th>body_part</th>\n",
       "      <th>disposition</th>\n",
       "      <th>location</th>\n",
       "      <th>fmv</th>\n",
       "      <th>prod1</th>\n",
       "      <th>prod2</th>\n",
       "      <th>narr1</th>\n",
       "      <th>narr2</th>\n",
       "    </tr>\n",
       "  </thead>\n",
       "  <tbody>\n",
       "    <tr>\n",
       "      <th>0</th>\n",
       "      <td>150733174</td>\n",
       "      <td>7/11/15</td>\n",
       "      <td>38</td>\n",
       "      <td>15.7762</td>\n",
       "      <td>V</td>\n",
       "      <td>5</td>\n",
       "      <td>1</td>\n",
       "      <td>0</td>\n",
       "      <td>NaN</td>\n",
       "      <td>57</td>\n",
       "      <td>NaN</td>\n",
       "      <td>33</td>\n",
       "      <td>1</td>\n",
       "      <td>9</td>\n",
       "      <td>0</td>\n",
       "      <td>1267</td>\n",
       "      <td>NaN</td>\n",
       "      <td>5 YR OLD MALE PLAYING SOCCER BLOCKING BALL AND...</td>\n",
       "      <td>X IT</td>\n",
       "    </tr>\n",
       "    <tr>\n",
       "      <th>1</th>\n",
       "      <td>150734723</td>\n",
       "      <td>7/6/15</td>\n",
       "      <td>43</td>\n",
       "      <td>83.2157</td>\n",
       "      <td>S</td>\n",
       "      <td>36</td>\n",
       "      <td>1</td>\n",
       "      <td>1</td>\n",
       "      <td>NaN</td>\n",
       "      <td>57</td>\n",
       "      <td>NaN</td>\n",
       "      <td>34</td>\n",
       "      <td>1</td>\n",
       "      <td>1</td>\n",
       "      <td>0</td>\n",
       "      <td>1439</td>\n",
       "      <td>4057.0</td>\n",
       "      <td>L WRIST FX(?)/36YOWM 2 WKS AGO@G-FRIENDS HM,MO...</td>\n",
       "      <td>AN OBJECT&amp;TWISTED WRIST TRYING TO CONTOL MOWER...</td>\n",
       "    </tr>\n",
       "    <tr>\n",
       "      <th>2</th>\n",
       "      <td>150817487</td>\n",
       "      <td>8/2/15</td>\n",
       "      <td>51</td>\n",
       "      <td>74.8813</td>\n",
       "      <td>L</td>\n",
       "      <td>20</td>\n",
       "      <td>2</td>\n",
       "      <td>0</td>\n",
       "      <td>NaN</td>\n",
       "      <td>71</td>\n",
       "      <td>OTITIS EXTERNA</td>\n",
       "      <td>94</td>\n",
       "      <td>1</td>\n",
       "      <td>0</td>\n",
       "      <td>0</td>\n",
       "      <td>3274</td>\n",
       "      <td>NaN</td>\n",
       "      <td>20 YO F C/O EAR PAIN 1 DAY SAS WAS SWIMMING YE...</td>\n",
       "      <td>T TRIED TO USE ***S TO REMOVE WAX MADE IT WORS...</td>\n",
       "    </tr>\n",
       "    <tr>\n",
       "      <th>3</th>\n",
       "      <td>150717776</td>\n",
       "      <td>6/26/15</td>\n",
       "      <td>41</td>\n",
       "      <td>15.7762</td>\n",
       "      <td>V</td>\n",
       "      <td>61</td>\n",
       "      <td>1</td>\n",
       "      <td>0</td>\n",
       "      <td>NaN</td>\n",
       "      <td>71</td>\n",
       "      <td>PAIN</td>\n",
       "      <td>35</td>\n",
       "      <td>1</td>\n",
       "      <td>0</td>\n",
       "      <td>0</td>\n",
       "      <td>611</td>\n",
       "      <td>NaN</td>\n",
       "      <td>61YOM W/KNEE PAIN S/P FALLING IN SHOWER 2 DAYS...</td>\n",
       "      <td>NaN</td>\n",
       "    </tr>\n",
       "    <tr>\n",
       "      <th>4</th>\n",
       "      <td>150721694</td>\n",
       "      <td>7/4/15</td>\n",
       "      <td>42</td>\n",
       "      <td>74.8813</td>\n",
       "      <td>L</td>\n",
       "      <td>88</td>\n",
       "      <td>2</td>\n",
       "      <td>3</td>\n",
       "      <td>HISPANIC</td>\n",
       "      <td>62</td>\n",
       "      <td>NaN</td>\n",
       "      <td>75</td>\n",
       "      <td>1</td>\n",
       "      <td>0</td>\n",
       "      <td>0</td>\n",
       "      <td>1893</td>\n",
       "      <td>1807.0</td>\n",
       "      <td>88YOF PAIN TO HEAD WHEN FALL TO FLOOR WHEN WAL...</td>\n",
       "      <td>DOOR AND FELL.DENIES LOC. DX HEAD INJURY</td>\n",
       "    </tr>\n",
       "  </tbody>\n",
       "</table>\n",
       "</div>"
      ],
      "text/plain": [
       "   CPSC Case # trmt_date  psu   weight stratum  age  sex  race race_other  \\\n",
       "0    150733174   7/11/15   38  15.7762       V    5    1     0        NaN   \n",
       "1    150734723    7/6/15   43  83.2157       S   36    1     1        NaN   \n",
       "2    150817487    8/2/15   51  74.8813       L   20    2     0        NaN   \n",
       "3    150717776   6/26/15   41  15.7762       V   61    1     0        NaN   \n",
       "4    150721694    7/4/15   42  74.8813       L   88    2     3   HISPANIC   \n",
       "\n",
       "   diag      diag_other  body_part  disposition  location  fmv  prod1   prod2  \\\n",
       "0    57             NaN         33            1         9    0   1267     NaN   \n",
       "1    57             NaN         34            1         1    0   1439  4057.0   \n",
       "2    71  OTITIS EXTERNA         94            1         0    0   3274     NaN   \n",
       "3    71            PAIN         35            1         0    0    611     NaN   \n",
       "4    62             NaN         75            1         0    0   1893  1807.0   \n",
       "\n",
       "                                               narr1  \\\n",
       "0  5 YR OLD MALE PLAYING SOCCER BLOCKING BALL AND...   \n",
       "1  L WRIST FX(?)/36YOWM 2 WKS AGO@G-FRIENDS HM,MO...   \n",
       "2  20 YO F C/O EAR PAIN 1 DAY SAS WAS SWIMMING YE...   \n",
       "3  61YOM W/KNEE PAIN S/P FALLING IN SHOWER 2 DAYS...   \n",
       "4  88YOF PAIN TO HEAD WHEN FALL TO FLOOR WHEN WAL...   \n",
       "\n",
       "                                               narr2  \n",
       "0                                               X IT  \n",
       "1  AN OBJECT&TWISTED WRIST TRYING TO CONTOL MOWER...  \n",
       "2  T TRIED TO USE ***S TO REMOVE WAX MADE IT WORS...  \n",
       "3                                                NaN  \n",
       "4           DOOR AND FELL.DENIES LOC. DX HEAD INJURY  "
      ]
     },
     "execution_count": 2,
     "metadata": {},
     "output_type": "execute_result"
    }
   ],
   "source": [
    "raw = pd.read_csv('/home/datauser/cpsc/data/processed/neiss/neiss-2015.csv')\n",
    "raw.head()"
   ]
  },
  {
   "cell_type": "code",
   "execution_count": null,
   "metadata": {
    "ExecuteTime": {
     "end_time": "2016-10-16T20:44:23.590018",
     "start_time": "2016-10-16T20:44:23.577091"
    },
    "collapsed": false,
    "scrolled": true
   },
   "outputs": [],
   "source": [
    "# top ten hospitals, one seems to be out\n",
    "raw.psu.value_counts()[0:9]"
   ]
  },
  {
   "cell_type": "code",
   "execution_count": 58,
   "metadata": {
    "ExecuteTime": {
     "end_time": "2016-10-20T20:24:42.956969",
     "start_time": "2016-10-20T20:24:42.943563"
    },
    "collapsed": false,
    "scrolled": true
   },
   "outputs": [
    {
     "data": {
      "text/plain": [
       "1842    28712\n",
       "1807    28351\n",
       "4076    16784\n",
       "1205    14147\n",
       "5040    12787\n",
       "1211    11664\n",
       "4074     8271\n",
       "1884     7783\n",
       "1893     7723\n",
       "Name: prod1, dtype: int64"
      ]
     },
     "execution_count": 58,
     "metadata": {},
     "output_type": "execute_result"
    }
   ],
   "source": [
    "#top ten most reported products\n",
    "raw.prod1.value_counts()[0:9]"
   ]
  },
  {
   "cell_type": "code",
   "execution_count": 52,
   "metadata": {
    "ExecuteTime": {
     "end_time": "2016-10-20T19:44:46.995588",
     "start_time": "2016-10-20T19:44:46.827901"
    },
    "collapsed": false
   },
   "outputs": [],
   "source": [
    "class neiss_cleaner(object):\n",
    "    \n",
    "    def __init__(self, data):\n",
    "        self.data = data\n",
    "    \n",
    "    @staticmethod\n",
    "    def append_string(append_type, row):\n",
    "        if append_type == 'hospital':\n",
    "            return 'hosp_' + row['psu'].__str__()\n",
    "        elif append_type == 'product':\n",
    "            return 'product_' + row['prod1'].__str__()\n",
    "        else:\n",
    "            raise Exception('not valid append type')\n",
    "\n",
    "    @staticmethod\n",
    "    def recode_race(row):\n",
    "        if row['race'] == 1:\n",
    "            return 'white'\n",
    "        elif row['race'] == 2:\n",
    "            return 'black'\n",
    "        elif row['race'] == 3 and row['race_other'] == 'HISPANIC':\n",
    "            return 'hispanic'\n",
    "        else:\n",
    "            return 'other'\n",
    "    \n",
    "    @property\n",
    "    def processed_data(self):\n",
    "        data = self.data\n",
    "        data['hospital'] = data.apply(lambda x: self.append_string('hospital', x), axis=1)\n",
    "        data['product'] = data.apply(lambda x: self.append_string('product', x), axis=1)\n",
    "        data['new_race'] = raw.apply(lambda x: self.recode_race(x), axis=1)\n",
    "        return data\n",
    "    \n",
    "    @property\n",
    "    def crosstab(self):\n",
    "        grouped = pd.crosstab(self.data['hospital'], self.data['product'])\n",
    "        return grouped\n",
    "        \n",
    "class neiss_query(object):\n",
    "    \n",
    "    def __init__(self, cleaned_data, crosstab):\n",
    "        self.data = cleaned_data\n",
    "        self.crosstab = crosstab\n",
    "        \n",
    "    def retrieve_query(self, group_name, group_value, query_name, top_num=9):\n",
    "        data = self.data\n",
    "        subset = data.ix[data[group_name] == group_value, query_name].value_counts()[0:top_num]\n",
    "        return subset\n",
    "\n",
    "    def get_product_by_hospital(self, hospital_name, top_num=9):\n",
    "        return self.retrieve_query(group_name='hospital', group_value=hospital_name,\n",
    "                                   query_name='product', top_num=top_num)\n",
    "    \n",
    "    def get_hospitals_by_product(self, product_name, top_num=9):\n",
    "        return self.retrieve_query(group_name='product', group_value=product_name,\n",
    "                                   query_name='hospital', top_num=top_num)\n",
    "    \n",
    "    def get_product_by_size(self, stratum_value, top_num=9):\n",
    "        return self.retrieve_query(group_name='stratum', group_value=stratum_value,\n",
    "                                  query_name='product', top_num=top_num)\n",
    "    \n",
    "    def get_counts(self, count_type, product_num=None, hosp_name=None):\n",
    "        if count_type == 'product':\n",
    "            return self.crosstab.ix[:, product_num]\n",
    "        elif count_type == 'hospital':\n",
    "            return self.crosstab.ix[hosp_name,:]\n",
    "        else:\n",
    "            raise Exception('invalid count type input')\n",
    "            \n",
    "    def product_counts(self, product_num):\n",
    "        return self.get_counts('product', product_num=product_num)\n",
    "    \n",
    "    def hospital_counts(self, hosp_name):\n",
    "        return self.get_counts('hospital', hosp_name=hosp_name)\n",
    "    \n",
    "    def plot_product(self, product_num):\n",
    "        data = self.product_counts(product_num)\n",
    "        graph = [go.Bar(\n",
    "            x=self.crosstab.index.values.tolist(),\n",
    "            y=data.values,\n",
    "        )]\n",
    "        layout = go.Layout(title='Hospital Records for Product - ' + product_num)\n",
    "        fig = go.Figure(data=graph, layout=layout)\n",
    "        return py.iplot(fig)\n",
    "    \n",
    "    def plot_hospital(self, hosp_name):\n",
    "        data = self.hospital_counts(hosp_name)\n",
    "        graph = [go.Bar(\n",
    "            x=self.crosstab.columns.values.tolist(),\n",
    "            y=data.values,\n",
    "        )]\n",
    "        layout = go.Layout(title='Product Counts for Hospital - ' + hosp_name)\n",
    "        fig = go.Figure(data=graph, layout=layout)\n",
    "        return py.iplot(fig)\n",
    "    \n",
    "    def get_top_product(self, hospital_name):\n",
    "        return self.data.ix[self.data['hospital'] == hospital_name, 'product'].value_counts().index[0]\n",
    "    \n",
    "    def top_product_for_hospital(self):\n",
    "        hosp_dict = {}\n",
    "        for hospital in self.data.hospital.value_counts().index:\n",
    "            print(hospital)\n",
    "            hosp_dict[hospital] = self.get_top_product(hospital)\n",
    "        return pd.Series([val for val in hosp_dict.values()]).value_counts() \n",
    "    "
   ]
  },
  {
   "cell_type": "code",
   "execution_count": 53,
   "metadata": {
    "ExecuteTime": {
     "end_time": "2016-10-20T19:45:08.908677",
     "start_time": "2016-10-20T19:44:47.014596"
    },
    "collapsed": false,
    "scrolled": true
   },
   "outputs": [
    {
     "name": "stdout",
     "output_type": "stream",
     "text": [
      "hosp_21\n",
      "hosp_95\n",
      "hosp_20\n",
      "hosp_8\n",
      "hosp_31\n",
      "hosp_17\n",
      "hosp_3\n",
      "hosp_89\n",
      "hosp_38\n",
      "hosp_61\n",
      "hosp_73\n",
      "hosp_67\n",
      "hosp_90\n",
      "hosp_32\n",
      "hosp_42\n",
      "hosp_63\n",
      "hosp_51\n",
      "hosp_24\n",
      "hosp_14\n",
      "hosp_54\n",
      "hosp_58\n",
      "hosp_2\n",
      "hosp_41\n",
      "hosp_5\n",
      "hosp_64\n",
      "hosp_57\n",
      "hosp_44\n",
      "hosp_23\n",
      "hosp_77\n",
      "hosp_78\n",
      "hosp_50\n",
      "hosp_37\n",
      "hosp_25\n",
      "hosp_52\n",
      "hosp_91\n",
      "hosp_40\n",
      "hosp_22\n",
      "hosp_18\n",
      "hosp_26\n",
      "hosp_68\n",
      "hosp_93\n",
      "hosp_16\n",
      "hosp_34\n",
      "hosp_101\n",
      "hosp_33\n",
      "hosp_43\n",
      "hosp_66\n",
      "hosp_65\n",
      "hosp_82\n",
      "hosp_53\n",
      "hosp_56\n",
      "hosp_98\n",
      "hosp_7\n",
      "hosp_48\n",
      "hosp_70\n",
      "hosp_27\n",
      "hosp_4\n",
      "hosp_92\n",
      "hosp_99\n",
      "hosp_29\n",
      "hosp_96\n",
      "hosp_79\n",
      "hosp_10\n",
      "hosp_19\n",
      "hosp_72\n",
      "hosp_6\n",
      "hosp_62\n",
      "hosp_85\n",
      "hosp_12\n",
      "hosp_46\n",
      "hosp_28\n",
      "hosp_94\n",
      "hosp_39\n",
      "hosp_84\n",
      "hosp_11\n",
      "hosp_74\n",
      "hosp_86\n",
      "hosp_75\n",
      "hosp_59\n",
      "hosp_9\n",
      "hosp_81\n",
      "hosp_45\n"
     ]
    },
    {
     "data": {
      "text/plain": [
       "product_1842    42\n",
       "product_1807    28\n",
       "product_4076     3\n",
       "product_3299     2\n",
       "product_5040     2\n",
       "product_1211     2\n",
       "product_1267     2\n",
       "product_3283     1\n",
       "dtype: int64"
      ]
     },
     "execution_count": 53,
     "metadata": {},
     "output_type": "execute_result"
    }
   ],
   "source": [
    "cleaned = neiss_cleaner(raw)\n",
    "data = neiss_query(cleaned.processed_data, cleaned.crosstab)\n",
    "# data.plot_hospital('hosp_38')\n",
    "# data.get_product_by_size('V')\n",
    "data.top_product_for_hospital()"
   ]
  },
  {
   "cell_type": "code",
   "execution_count": 26,
   "metadata": {
    "ExecuteTime": {
     "end_time": "2016-10-20T19:22:39.949370",
     "start_time": "2016-10-20T19:22:39.668779"
    },
    "collapsed": false,
    "scrolled": true
   },
   "outputs": [
    {
     "name": "stdout",
     "output_type": "stream",
     "text": [
      "V\n",
      "product_1842    13753\n",
      "product_1807    12561\n",
      "product_4076     6894\n",
      "product_1205     6165\n",
      "product_5040     5548\n",
      "product_3299     3990\n",
      "product_1211     3861\n",
      "product_464      3688\n",
      "product_1884     3603\n",
      "Name: product, dtype: int64\n",
      "C\n",
      "product_1211    3874\n",
      "product_1842    3389\n",
      "product_1205    3313\n",
      "product_4076    3253\n",
      "product_1807    2546\n",
      "product_5040    2394\n",
      "product_1267    2314\n",
      "product_4057    1896\n",
      "product_1893    1733\n",
      "Name: product, dtype: int64\n",
      "L\n",
      "product_1807    4611\n",
      "product_1842    4516\n",
      "product_4076    2607\n",
      "product_5040    2005\n",
      "product_1205    1845\n",
      "product_1211    1409\n",
      "product_1884    1193\n",
      "product_4074    1181\n",
      "product_464     1155\n",
      "Name: product, dtype: int64\n",
      "M\n",
      "product_1807    4703\n",
      "product_1842    3813\n",
      "product_4076    2184\n",
      "product_1205    1590\n",
      "product_5040    1476\n",
      "product_1211    1178\n",
      "product_4074    1119\n",
      "product_611     1092\n",
      "product_3299    1034\n",
      "Name: product, dtype: int64\n",
      "S\n",
      "product_1807    3930\n",
      "product_1842    3241\n",
      "product_4076    1846\n",
      "product_5040    1364\n",
      "product_1211    1342\n",
      "product_1205    1234\n",
      "product_464     1130\n",
      "product_4074     990\n",
      "product_611      912\n",
      "Name: product, dtype: int64\n"
     ]
    }
   ],
   "source": [
    "# Get top ten items by size\n",
    "stratums = data.data.stratum.value_counts().index.tolist()\n",
    "for stratum in stratums:\n",
    "    print(stratum)\n",
    "    print(data.get_product_by_size(stratum))\n",
    "    \n"
   ]
  },
  {
   "cell_type": "code",
   "execution_count": 44,
   "metadata": {
    "ExecuteTime": {
     "end_time": "2016-10-20T19:38:12.707261",
     "start_time": "2016-10-20T19:38:12.652595"
    },
    "collapsed": false
   },
   "outputs": [
    {
     "data": {
      "text/plain": [
       "Index(['hosp_21', 'hosp_95', 'hosp_20', 'hosp_8', 'hosp_31', 'hosp_17',\n",
       "       'hosp_3', 'hosp_89', 'hosp_38', 'hosp_61', 'hosp_73', 'hosp_67',\n",
       "       'hosp_90', 'hosp_32', 'hosp_42', 'hosp_63', 'hosp_51', 'hosp_24',\n",
       "       'hosp_14', 'hosp_54', 'hosp_58', 'hosp_2', 'hosp_41', 'hosp_5',\n",
       "       'hosp_64', 'hosp_57', 'hosp_44', 'hosp_23', 'hosp_77', 'hosp_78',\n",
       "       'hosp_50', 'hosp_37', 'hosp_25', 'hosp_52', 'hosp_91', 'hosp_40',\n",
       "       'hosp_22', 'hosp_18', 'hosp_26', 'hosp_68', 'hosp_93', 'hosp_16',\n",
       "       'hosp_34', 'hosp_101', 'hosp_33', 'hosp_43', 'hosp_66', 'hosp_65',\n",
       "       'hosp_82', 'hosp_53', 'hosp_56', 'hosp_98', 'hosp_7', 'hosp_48',\n",
       "       'hosp_70', 'hosp_27', 'hosp_4', 'hosp_92', 'hosp_99', 'hosp_29',\n",
       "       'hosp_96', 'hosp_79', 'hosp_10', 'hosp_19', 'hosp_72', 'hosp_6',\n",
       "       'hosp_62', 'hosp_85', 'hosp_12', 'hosp_46', 'hosp_28', 'hosp_94',\n",
       "       'hosp_39', 'hosp_84', 'hosp_11', 'hosp_74', 'hosp_86', 'hosp_75',\n",
       "       'hosp_59', 'hosp_9', 'hosp_81', 'hosp_45'],\n",
       "      dtype='object')"
      ]
     },
     "execution_count": 44,
     "metadata": {},
     "output_type": "execute_result"
    }
   ],
   "source": [
    "data.data.hospital.value_counts().index"
   ]
  },
  {
   "cell_type": "code",
   "execution_count": 55,
   "metadata": {
    "ExecuteTime": {
     "end_time": "2016-10-20T19:47:53.857231",
     "start_time": "2016-10-20T19:47:53.542100"
    },
    "collapsed": false
   },
   "outputs": [
    {
     "name": "stdout",
     "output_type": "stream",
     "text": [
      "other\n",
      "product_1807    13378\n",
      "product_1842    11999\n",
      "product_4076     7229\n",
      "product_1205     5529\n",
      "product_5040     5324\n",
      "product_1211     4102\n",
      "product_3299     3887\n",
      "product_4074     3381\n",
      "product_611      3199\n",
      "Name: product, dtype: int64\n",
      "white\n",
      "product_1807    11719\n",
      "product_1842    11388\n",
      "product_4076     6523\n",
      "product_5040     5026\n",
      "product_1211     4125\n",
      "product_1205     3867\n",
      "product_4074     3560\n",
      "product_464      3104\n",
      "product_4057     3008\n",
      "Name: product, dtype: int64\n",
      "black\n",
      "product_1842    4389\n",
      "product_1205    4267\n",
      "product_1211    3048\n",
      "product_1807    2615\n",
      "product_4076    2302\n",
      "product_5040    1882\n",
      "product_1893    1462\n",
      "product_1884    1332\n",
      "product_4057    1039\n",
      "Name: product, dtype: int64\n",
      "hispanic\n",
      "product_1842    936\n",
      "product_1267    798\n",
      "product_4076    730\n",
      "product_1807    639\n",
      "product_5040    555\n",
      "product_1205    484\n",
      "product_1211    389\n",
      "product_1884    352\n",
      "product_4074    310\n",
      "Name: product, dtype: int64\n",
      "1\n",
      "product_1842    11611\n",
      "product_1205    11533\n",
      "product_1211    10984\n",
      "product_1807    10823\n",
      "product_5040     9288\n",
      "product_4076     7447\n",
      "product_1267     4853\n",
      "product_1884     4619\n",
      "product_464      4256\n",
      "Name: product, dtype: int64\n",
      "2\n",
      "product_1807    17528\n",
      "product_1842    17100\n",
      "product_4076     9337\n",
      "product_4074     4604\n",
      "product_611      4255\n",
      "product_1893     3991\n",
      "product_5040     3499\n",
      "product_4057     3363\n",
      "product_3299     3331\n",
      "Name: product, dtype: int64\n"
     ]
    }
   ],
   "source": [
    "races = raw.new_race.value_counts().index.tolist()\n",
    "for race in races:\n",
    "    print(race)\n",
    "    print(data.retrieve_query('new_race', race, query_name='product'))\n",
    "    \n",
    "for sex in range(1,3):\n",
    "    print(sex)\n",
    "    print(data.retrieve_query('sex', sex, query_name='product'))"
   ]
  },
  {
   "cell_type": "markdown",
   "metadata": {
    "ExecuteTime": {
     "end_time": "2016-10-16T22:13:45.963871",
     "start_time": "2016-10-16T22:13:45.960539"
    }
   },
   "source": [
    "# Findings\n",
    "\n",
    "## Overall\n",
    "So far, product number 1807 seems to be the top product thats reported overall. But product 1842 seems to be the top item for the most number of hospitals. To be more specific, 70 out of the 82, hospitals have product 1842 and 1807 as their top product complaint. Regarding demographics, there's not much variatino. Both of these products were top product afflict regardless of gender or ethnicity. \n",
    "\n",
    "## Sizes\n",
    "In terms of different product among "
   ]
  },
  {
   "cell_type": "code",
   "execution_count": 57,
   "metadata": {
    "ExecuteTime": {
     "end_time": "2016-10-20T19:49:25.155155",
     "start_time": "2016-10-20T19:49:25.144105"
    },
    "collapsed": false
   },
   "outputs": [
    {
     "data": {
      "text/plain": [
       "82"
      ]
     },
     "execution_count": 57,
     "metadata": {},
     "output_type": "execute_result"
    }
   ],
   "source": [
    "len(raw.psu.value_counts().index)"
   ]
  },
  {
   "cell_type": "code",
   "execution_count": null,
   "metadata": {
    "ExecuteTime": {
     "end_time": "2016-10-17T16:18:08.492700",
     "start_time": "2016-10-17T16:18:08.487333"
    },
    "collapsed": true
   },
   "outputs": [],
   "source": [
    "raw.columns.values"
   ]
  },
  {
   "cell_type": "code",
   "execution_count": 29,
   "metadata": {
    "ExecuteTime": {
     "end_time": "2016-10-20T19:31:38.294191",
     "start_time": "2016-10-20T19:31:38.288678"
    },
    "collapsed": false
   },
   "outputs": [
    {
     "data": {
      "text/plain": [
       "'CPSC Case #'"
      ]
     },
     "execution_count": 29,
     "metadata": {},
     "output_type": "execute_result"
    }
   ],
   "source": [
    "data.data.columns.values[0]"
   ]
  },
  {
   "cell_type": "raw",
   "metadata": {
    "collapsed": true
   },
   "source": []
  }
 ],
 "metadata": {
  "kernelspec": {
   "display_name": "Python 3",
   "language": "python",
   "name": "python3"
  },
  "language_info": {
   "codemirror_mode": {
    "name": "ipython",
    "version": 3
   },
   "file_extension": ".py",
   "mimetype": "text/x-python",
   "name": "python",
   "nbconvert_exporter": "python",
   "pygments_lexer": "ipython3",
   "version": "3.5.2"
  },
  "nav_menu": {},
  "toc": {
   "navigate_menu": true,
   "number_sections": true,
   "sideBar": true,
   "threshold": 6,
   "toc_cell": false,
   "toc_section_display": "block",
   "toc_window_display": false
  }
 },
 "nbformat": 4,
 "nbformat_minor": 0
}
