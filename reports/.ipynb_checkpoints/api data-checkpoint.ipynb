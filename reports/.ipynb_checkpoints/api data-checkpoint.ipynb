{
 "cells": [
  {
   "cell_type": "markdown",
   "metadata": {
    "toc": "true"
   },
   "source": [
    "# Table of Contents\n",
    " <p><div class=\"lev1 toc-item\"><a href=\"#Introduction\" data-toc-modified-id=\"Introduction-1\"><span class=\"toc-item-num\">1&nbsp;&nbsp;</span>Introduction</a></div><div class=\"lev1 toc-item\"><a href=\"#Pulling-in-Data\" data-toc-modified-id=\"Pulling-in-Data-2\"><span class=\"toc-item-num\">2&nbsp;&nbsp;</span>Pulling in Data</a></div><div class=\"lev1 toc-item\"><a href=\"#Questions\" data-toc-modified-id=\"Questions-3\"><span class=\"toc-item-num\">3&nbsp;&nbsp;</span>Questions</a></div><div class=\"lev2 toc-item\"><a href=\"#Are-there-certain-populations-we're-not-getting-reports-from?\" data-toc-modified-id=\"Are-there-certain-populations-we're-not-getting-reports-from?-3.1\"><span class=\"toc-item-num\">3.1&nbsp;&nbsp;</span>Are there certain populations we're not getting reports from?</a></div><div class=\"lev3 toc-item\"><a href=\"#Findings\" data-toc-modified-id=\"Findings-3.1.1\"><span class=\"toc-item-num\">3.1.1&nbsp;&nbsp;</span>Findings</a></div><div class=\"lev2 toc-item\"><a href=\"#If-we-wanted-to-raise-awareness-about-a-certain-tool-or-item,-where-should-we-focus-our-efforts\" data-toc-modified-id=\"If-we-wanted-to-raise-awareness-about-a-certain-tool-or-item,-where-should-we-focus-our-efforts-3.2\"><span class=\"toc-item-num\">3.2&nbsp;&nbsp;</span>If we wanted to raise awareness about a certain tool or item, where should we focus our efforts</a></div><div class=\"lev3 toc-item\"><a href=\"#Findings\" data-toc-modified-id=\"Findings-3.2.1\"><span class=\"toc-item-num\">3.2.1&nbsp;&nbsp;</span>Findings</a></div><div class=\"lev2 toc-item\"><a href=\"#Are-there-certain-complaints-that-people-are-filing?-Quality-issues-vs-injuries?\" data-toc-modified-id=\"Are-there-certain-complaints-that-people-are-filing?-Quality-issues-vs-injuries?-3.3\"><span class=\"toc-item-num\">3.3&nbsp;&nbsp;</span>Are there certain complaints that people are filing? Quality issues vs injuries?</a></div><div class=\"lev3 toc-item\"><a href=\"#Findings\" data-toc-modified-id=\"Findings-3.3.1\"><span class=\"toc-item-num\">3.3.1&nbsp;&nbsp;</span>Findings</a></div><div class=\"lev2 toc-item\"><a href=\"#Who-are-the-people-who-are-actually-reporting-to-us?\" data-toc-modified-id=\"Who-are-the-people-who-are-actually-reporting-to-us?-3.4\"><span class=\"toc-item-num\">3.4&nbsp;&nbsp;</span>Who are the people who are actually reporting to us?</a></div><div class=\"lev1 toc-item\"><a href=\"#Further-Suggestions\" data-toc-modified-id=\"Further-Suggestions-4\"><span class=\"toc-item-num\">4&nbsp;&nbsp;</span>Further Suggestions</a></div><div class=\"lev2 toc-item\"><a href=\"#Next-Steps\" data-toc-modified-id=\"Next-Steps-4.1\"><span class=\"toc-item-num\">4.1&nbsp;&nbsp;</span>Next Steps</a></div><div class=\"lev1 toc-item\"><a href=\"#References\" data-toc-modified-id=\"References-5\"><span class=\"toc-item-num\">5&nbsp;&nbsp;</span>References</a></div><div class=\"lev2 toc-item\"><a href=\"#Question-3.1\" data-toc-modified-id=\"Question-3.1-5.1\"><span class=\"toc-item-num\">5.1&nbsp;&nbsp;</span>Question 3.1</a></div><div class=\"lev2 toc-item\"><a href=\"#Question-3.2\" data-toc-modified-id=\"Question-3.2-5.2\"><span class=\"toc-item-num\">5.2&nbsp;&nbsp;</span>Question 3.2</a></div><div class=\"lev2 toc-item\"><a href=\"#Question-3.3\" data-toc-modified-id=\"Question-3.3-5.3\"><span class=\"toc-item-num\">5.3&nbsp;&nbsp;</span>Question 3.3</a></div>"
   ]
  },
  {
   "cell_type": "markdown",
   "metadata": {},
   "source": [
    "# Introduction"
   ]
  },
  {
   "cell_type": "markdown",
   "metadata": {},
   "source": [
    "This notebook serves as a reporting tool for the CPSC. In this notebook, I laid out the questions CPSC is interested in learning from their SaferProduct API. The format will be that there are a few questions presented and each question will have a `findings` section where there is a quick summary of the findings while in Section 5, there will be further information on how on the findings were conducted."
   ]
  },
  {
   "cell_type": "markdown",
   "metadata": {},
   "source": [
    "# Pulling in Data"
   ]
  },
  {
   "cell_type": "markdown",
   "metadata": {},
   "source": [
    "Given that the API was down during this time of the reporting, I obtained data from Ana Carolina Areias via Dropbox link. Here I cleaned up the pure JSON format and converted it into a dataframe (the cleaning code can be found in the `exploratory.ipynb` in the `/notebook` directory. After that I saved the data using pickle where I can easily load it up for analysis."
   ]
  },
  {
   "cell_type": "code",
   "execution_count": 104,
   "metadata": {
    "ExecuteTime": {
     "end_time": "2016-10-03T23:26:17.894053",
     "start_time": "2016-10-03T23:26:17.890087"
    },
    "collapsed": false
   },
   "outputs": [],
   "source": [
    "import pickle\n",
    "import operator\n",
    "\n",
    "import numpy as np\n",
    "import pandas as pd \n",
    "import gensim.models"
   ]
  },
  {
   "cell_type": "code",
   "execution_count": 3,
   "metadata": {
    "ExecuteTime": {
     "end_time": "2016-09-29T15:11:29.240562",
     "start_time": "2016-09-29T15:11:27.713079"
    },
    "collapsed": false
   },
   "outputs": [
    {
     "data": {
      "text/html": [
       "<div>\n",
       "<table border=\"1\" class=\"dataframe\">\n",
       "  <thead>\n",
       "    <tr style=\"text-align: right;\">\n",
       "      <th></th>\n",
       "      <th>AnswerExplanation</th>\n",
       "      <th>CompanyCommentsExpanded</th>\n",
       "      <th>IncidentDate</th>\n",
       "      <th>IncidentDescription</th>\n",
       "      <th>IncidentProductDescription</th>\n",
       "      <th>IncidentReportDate</th>\n",
       "      <th>IncidentReportId</th>\n",
       "      <th>IncidentReportNumber</th>\n",
       "      <th>IncidentReportPublicationDate</th>\n",
       "      <th>LocaleId</th>\n",
       "      <th>...</th>\n",
       "      <th>__metadata</th>\n",
       "      <th>LocaleDescription</th>\n",
       "      <th>LocalePublicName</th>\n",
       "      <th>GenderDescription</th>\n",
       "      <th>GenderId</th>\n",
       "      <th>GenderPublicName</th>\n",
       "      <th>ProductCategoryDescription</th>\n",
       "      <th>ProductCategoryPublicName</th>\n",
       "      <th>SeverityTypeDescription</th>\n",
       "      <th>SeverityTypePublicName</th>\n",
       "    </tr>\n",
       "  </thead>\n",
       "  <tbody>\n",
       "    <tr>\n",
       "      <th>0</th>\n",
       "      <td>None</td>\n",
       "      <td>Helen of Troy acknowledges receipt of the subm...</td>\n",
       "      <td>/Date(1297036800000)/</td>\n",
       "      <td>Using the Revlon rv050 curling iron and came h...</td>\n",
       "      <td>rv050 curling iron</td>\n",
       "      <td>/Date(1299801600000)/</td>\n",
       "      <td>1170172</td>\n",
       "      <td>20110311-B3E19-2147481666</td>\n",
       "      <td>/Date(1301709487243)/</td>\n",
       "      <td>-1</td>\n",
       "      <td>...</td>\n",
       "      <td>{u'type': u'CPSRMS_PUBModel.IncidentDetail', u...</td>\n",
       "      <td>Unspecified</td>\n",
       "      <td>Unspecified</td>\n",
       "      <td>Missing</td>\n",
       "      <td>Missing</td>\n",
       "      <td>Missing</td>\n",
       "      <td>Hair Curlers, Curling Irons, Clips &amp; Hairpins</td>\n",
       "      <td>Hair Curlers, Curling Irons, Clips &amp; Hairpins</td>\n",
       "      <td>Missing</td>\n",
       "      <td>Missing</td>\n",
       "    </tr>\n",
       "    <tr>\n",
       "      <th>1</th>\n",
       "      <td>None</td>\n",
       "      <td>None</td>\n",
       "      <td>/Date(881884800000)/</td>\n",
       "      <td>On December 12th 1997, I found my son, Tyler J...</td>\n",
       "      <td>ChildCraft drop side crib, oak</td>\n",
       "      <td>/Date(1299801600000)/</td>\n",
       "      <td>1170340</td>\n",
       "      <td>20110311-CFE0F-2147481661</td>\n",
       "      <td>/Date(1301674156573)/</td>\n",
       "      <td>1</td>\n",
       "      <td>...</td>\n",
       "      <td>{u'type': u'CPSRMS_PUBModel.IncidentDetail', u...</td>\n",
       "      <td>Home/Apartment/Condominium</td>\n",
       "      <td>Home/Apartment/Condominium</td>\n",
       "      <td>Male</td>\n",
       "      <td>2</td>\n",
       "      <td>Male</td>\n",
       "      <td>Cribs</td>\n",
       "      <td>Cribs</td>\n",
       "      <td>Death</td>\n",
       "      <td>Death</td>\n",
       "    </tr>\n",
       "    <tr>\n",
       "      <th>2</th>\n",
       "      <td>I have contacted the manufacturer several time...</td>\n",
       "      <td>None</td>\n",
       "      <td>/Date(1294876800000)/</td>\n",
       "      <td>I have a Frigidaire electric range that comes ...</td>\n",
       "      <td>Electric Smoothtop Range</td>\n",
       "      <td>/Date(1299801600000)/</td>\n",
       "      <td>1170342</td>\n",
       "      <td>20110311-CFAB7-2147481658</td>\n",
       "      <td>/Date(1302051235430)/</td>\n",
       "      <td>-1</td>\n",
       "      <td>...</td>\n",
       "      <td>{u'type': u'CPSRMS_PUBModel.IncidentDetail', u...</td>\n",
       "      <td>Unspecified</td>\n",
       "      <td>Unspecified</td>\n",
       "      <td>Missing</td>\n",
       "      <td>Missing</td>\n",
       "      <td>Missing</td>\n",
       "      <td>Electric Ranges or Ovens (Excl Counter-top Ovens)</td>\n",
       "      <td>Electric Ranges or Ovens (Excl Counter-top Ovens)</td>\n",
       "      <td>Missing</td>\n",
       "      <td>Missing</td>\n",
       "    </tr>\n",
       "    <tr>\n",
       "      <th>3</th>\n",
       "      <td>Sears wants $500 to fix this product.  It is a...</td>\n",
       "      <td>Sears Holdings takes product safety issues ver...</td>\n",
       "      <td>/Date(1299801600000)/</td>\n",
       "      <td>Kenmore Elite Model #795.77543600\\r\\n\\r\\nThe l...</td>\n",
       "      <td>Kenmore Elite Trio 25Cubic Feet Bottom Freezer...</td>\n",
       "      <td>/Date(1299801600000)/</td>\n",
       "      <td>1170344</td>\n",
       "      <td>20110311-EFD8B-2147481655</td>\n",
       "      <td>/Date(1301709795607)/</td>\n",
       "      <td>1</td>\n",
       "      <td>...</td>\n",
       "      <td>{u'type': u'CPSRMS_PUBModel.IncidentDetail', u...</td>\n",
       "      <td>Home/Apartment/Condominium</td>\n",
       "      <td>Home/Apartment/Condominium</td>\n",
       "      <td>Male</td>\n",
       "      <td>2</td>\n",
       "      <td>Male</td>\n",
       "      <td>Refrigerators</td>\n",
       "      <td>Refrigerators</td>\n",
       "      <td>Received care that did not involve medical per...</td>\n",
       "      <td>First Aid Received by Non-Medical Professional</td>\n",
       "    </tr>\n",
       "    <tr>\n",
       "      <th>4</th>\n",
       "      <td>I will be writing a letter to the company foll...</td>\n",
       "      <td>Thank you for sharing your experience with us ...</td>\n",
       "      <td>/Date(1299456000000)/</td>\n",
       "      <td>Since he was born two months ago, we have been...</td>\n",
       "      <td>Pampers Swaddlers New Baby with Dry Max, Size 1-2</td>\n",
       "      <td>/Date(1299801600000)/</td>\n",
       "      <td>1170347</td>\n",
       "      <td>20110311-DBB63-2147481650</td>\n",
       "      <td>/Date(1301661238360)/</td>\n",
       "      <td>1</td>\n",
       "      <td>...</td>\n",
       "      <td>{u'type': u'CPSRMS_PUBModel.IncidentDetail', u...</td>\n",
       "      <td>Home/Apartment/Condominium</td>\n",
       "      <td>Home/Apartment/Condominium</td>\n",
       "      <td>Male</td>\n",
       "      <td>2</td>\n",
       "      <td>Male</td>\n",
       "      <td>Diapers</td>\n",
       "      <td>Diapers</td>\n",
       "      <td>Received care that did not involve medical per...</td>\n",
       "      <td>First Aid Received by Non-Medical Professional</td>\n",
       "    </tr>\n",
       "  </tbody>\n",
       "</table>\n",
       "<p>5 rows × 42 columns</p>\n",
       "</div>"
      ],
      "text/plain": [
       "                                   AnswerExplanation  \\\n",
       "0                                               None   \n",
       "1                                               None   \n",
       "2  I have contacted the manufacturer several time...   \n",
       "3  Sears wants $500 to fix this product.  It is a...   \n",
       "4  I will be writing a letter to the company foll...   \n",
       "\n",
       "                             CompanyCommentsExpanded           IncidentDate  \\\n",
       "0  Helen of Troy acknowledges receipt of the subm...  /Date(1297036800000)/   \n",
       "1                                               None   /Date(881884800000)/   \n",
       "2                                               None  /Date(1294876800000)/   \n",
       "3  Sears Holdings takes product safety issues ver...  /Date(1299801600000)/   \n",
       "4  Thank you for sharing your experience with us ...  /Date(1299456000000)/   \n",
       "\n",
       "                                 IncidentDescription  \\\n",
       "0  Using the Revlon rv050 curling iron and came h...   \n",
       "1  On December 12th 1997, I found my son, Tyler J...   \n",
       "2  I have a Frigidaire electric range that comes ...   \n",
       "3  Kenmore Elite Model #795.77543600\\r\\n\\r\\nThe l...   \n",
       "4  Since he was born two months ago, we have been...   \n",
       "\n",
       "                          IncidentProductDescription     IncidentReportDate  \\\n",
       "0                                 rv050 curling iron  /Date(1299801600000)/   \n",
       "1                     ChildCraft drop side crib, oak  /Date(1299801600000)/   \n",
       "2                           Electric Smoothtop Range  /Date(1299801600000)/   \n",
       "3  Kenmore Elite Trio 25Cubic Feet Bottom Freezer...  /Date(1299801600000)/   \n",
       "4  Pampers Swaddlers New Baby with Dry Max, Size 1-2  /Date(1299801600000)/   \n",
       "\n",
       "   IncidentReportId       IncidentReportNumber IncidentReportPublicationDate  \\\n",
       "0           1170172  20110311-B3E19-2147481666         /Date(1301709487243)/   \n",
       "1           1170340  20110311-CFE0F-2147481661         /Date(1301674156573)/   \n",
       "2           1170342  20110311-CFAB7-2147481658         /Date(1302051235430)/   \n",
       "3           1170344  20110311-EFD8B-2147481655         /Date(1301709795607)/   \n",
       "4           1170347  20110311-DBB63-2147481650         /Date(1301661238360)/   \n",
       "\n",
       "   LocaleId                       ...                        \\\n",
       "0        -1                       ...                         \n",
       "1         1                       ...                         \n",
       "2        -1                       ...                         \n",
       "3         1                       ...                         \n",
       "4         1                       ...                         \n",
       "\n",
       "                                          __metadata  \\\n",
       "0  {u'type': u'CPSRMS_PUBModel.IncidentDetail', u...   \n",
       "1  {u'type': u'CPSRMS_PUBModel.IncidentDetail', u...   \n",
       "2  {u'type': u'CPSRMS_PUBModel.IncidentDetail', u...   \n",
       "3  {u'type': u'CPSRMS_PUBModel.IncidentDetail', u...   \n",
       "4  {u'type': u'CPSRMS_PUBModel.IncidentDetail', u...   \n",
       "\n",
       "            LocaleDescription            LocalePublicName  GenderDescription  \\\n",
       "0                 Unspecified                 Unspecified            Missing   \n",
       "1  Home/Apartment/Condominium  Home/Apartment/Condominium               Male   \n",
       "2                 Unspecified                 Unspecified            Missing   \n",
       "3  Home/Apartment/Condominium  Home/Apartment/Condominium               Male   \n",
       "4  Home/Apartment/Condominium  Home/Apartment/Condominium               Male   \n",
       "\n",
       "  GenderId  GenderPublicName  \\\n",
       "0  Missing           Missing   \n",
       "1        2              Male   \n",
       "2  Missing           Missing   \n",
       "3        2              Male   \n",
       "4        2              Male   \n",
       "\n",
       "                          ProductCategoryDescription  \\\n",
       "0      Hair Curlers, Curling Irons, Clips & Hairpins   \n",
       "1                                              Cribs   \n",
       "2  Electric Ranges or Ovens (Excl Counter-top Ovens)   \n",
       "3                                      Refrigerators   \n",
       "4                                            Diapers   \n",
       "\n",
       "                           ProductCategoryPublicName  \\\n",
       "0      Hair Curlers, Curling Irons, Clips & Hairpins   \n",
       "1                                              Cribs   \n",
       "2  Electric Ranges or Ovens (Excl Counter-top Ovens)   \n",
       "3                                      Refrigerators   \n",
       "4                                            Diapers   \n",
       "\n",
       "                             SeverityTypeDescription  \\\n",
       "0                                            Missing   \n",
       "1                                              Death   \n",
       "2                                            Missing   \n",
       "3  Received care that did not involve medical per...   \n",
       "4  Received care that did not involve medical per...   \n",
       "\n",
       "                           SeverityTypePublicName  \n",
       "0                                         Missing  \n",
       "1                                           Death  \n",
       "2                                         Missing  \n",
       "3  First Aid Received by Non-Medical Professional  \n",
       "4  First Aid Received by Non-Medical Professional  \n",
       "\n",
       "[5 rows x 42 columns]"
      ]
     },
     "execution_count": 3,
     "metadata": {},
     "output_type": "execute_result"
    }
   ],
   "source": [
    "data = pickle.load(open('/home/datauser/cpsc/data/processed/cleaned_api_data', 'rb'))\n",
    "data.head()"
   ]
  },
  {
   "cell_type": "markdown",
   "metadata": {},
   "source": [
    "# Questions"
   ]
  },
  {
   "cell_type": "markdown",
   "metadata": {},
   "source": [
    "## Are there certain populations we're not getting reports from? \n",
    "\n",
    "We can create a basic cross tab between age and gender to see if there are any patterns that emerges."
   ]
  },
  {
   "cell_type": "code",
   "execution_count": 67,
   "metadata": {
    "ExecuteTime": {
     "end_time": "2016-09-29T16:24:31.125740",
     "start_time": "2016-09-29T16:24:31.075941"
    },
    "collapsed": false
   },
   "outputs": [
    {
     "data": {
      "text/html": [
       "<div>\n",
       "<table border=\"1\" class=\"dataframe\">\n",
       "  <thead>\n",
       "    <tr style=\"text-align: right;\">\n",
       "      <th>age_range</th>\n",
       "      <th>under 10</th>\n",
       "      <th>10-20</th>\n",
       "      <th>20-30</th>\n",
       "      <th>30-40</th>\n",
       "      <th>40-50</th>\n",
       "      <th>50-60</th>\n",
       "      <th>60-70</th>\n",
       "      <th>70-80</th>\n",
       "      <th>80-90</th>\n",
       "      <th>90-100</th>\n",
       "      <th>over 100</th>\n",
       "    </tr>\n",
       "    <tr>\n",
       "      <th>GenderDescription</th>\n",
       "      <th></th>\n",
       "      <th></th>\n",
       "      <th></th>\n",
       "      <th></th>\n",
       "      <th></th>\n",
       "      <th></th>\n",
       "      <th></th>\n",
       "      <th></th>\n",
       "      <th></th>\n",
       "      <th></th>\n",
       "      <th></th>\n",
       "    </tr>\n",
       "  </thead>\n",
       "  <tbody>\n",
       "    <tr>\n",
       "      <th>Female</th>\n",
       "      <td>1339</td>\n",
       "      <td>289</td>\n",
       "      <td>613</td>\n",
       "      <td>1179</td>\n",
       "      <td>1523</td>\n",
       "      <td>1485</td>\n",
       "      <td>899</td>\n",
       "      <td>240</td>\n",
       "      <td>71</td>\n",
       "      <td>7</td>\n",
       "      <td>1</td>\n",
       "    </tr>\n",
       "    <tr>\n",
       "      <th>Male</th>\n",
       "      <td>1347</td>\n",
       "      <td>324</td>\n",
       "      <td>450</td>\n",
       "      <td>902</td>\n",
       "      <td>1213</td>\n",
       "      <td>1328</td>\n",
       "      <td>1030</td>\n",
       "      <td>271</td>\n",
       "      <td>49</td>\n",
       "      <td>4</td>\n",
       "      <td>1</td>\n",
       "    </tr>\n",
       "    <tr>\n",
       "      <th>Missing</th>\n",
       "      <td>0</td>\n",
       "      <td>0</td>\n",
       "      <td>0</td>\n",
       "      <td>0</td>\n",
       "      <td>0</td>\n",
       "      <td>0</td>\n",
       "      <td>0</td>\n",
       "      <td>0</td>\n",
       "      <td>0</td>\n",
       "      <td>0</td>\n",
       "      <td>0</td>\n",
       "    </tr>\n",
       "    <tr>\n",
       "      <th>Unknown</th>\n",
       "      <td>23</td>\n",
       "      <td>0</td>\n",
       "      <td>1</td>\n",
       "      <td>1</td>\n",
       "      <td>6</td>\n",
       "      <td>9</td>\n",
       "      <td>5</td>\n",
       "      <td>2</td>\n",
       "      <td>1</td>\n",
       "      <td>0</td>\n",
       "      <td>0</td>\n",
       "    </tr>\n",
       "    <tr>\n",
       "      <th>Unspecified</th>\n",
       "      <td>50</td>\n",
       "      <td>0</td>\n",
       "      <td>10</td>\n",
       "      <td>14</td>\n",
       "      <td>25</td>\n",
       "      <td>26</td>\n",
       "      <td>21</td>\n",
       "      <td>11</td>\n",
       "      <td>1</td>\n",
       "      <td>1</td>\n",
       "      <td>0</td>\n",
       "    </tr>\n",
       "  </tbody>\n",
       "</table>\n",
       "</div>"
      ],
      "text/plain": [
       "age_range          under 10  10-20  20-30  30-40  40-50  50-60  60-70  70-80  \\\n",
       "GenderDescription                                                              \n",
       "Female                 1339    289    613   1179   1523   1485    899    240   \n",
       "Male                   1347    324    450    902   1213   1328   1030    271   \n",
       "Missing                   0      0      0      0      0      0      0      0   \n",
       "Unknown                  23      0      1      1      6      9      5      2   \n",
       "Unspecified              50      0     10     14     25     26     21     11   \n",
       "\n",
       "age_range          80-90  90-100  over 100  \n",
       "GenderDescription                           \n",
       "Female                71       7         1  \n",
       "Male                  49       4         1  \n",
       "Missing                0       0         0  \n",
       "Unknown                1       0         0  \n",
       "Unspecified            1       1         0  "
      ]
     },
     "execution_count": 67,
     "metadata": {},
     "output_type": "execute_result"
    }
   ],
   "source": [
    "pd.crosstab(data['GenderDescription'], data['age_range'])"
   ]
  },
  {
   "cell_type": "markdown",
   "metadata": {},
   "source": [
    "### Findings\n",
    "\n",
    "From the data, it seems that there's not much underrepresentation by gender. There are only around a thousand less males than females in a dataset of 28,000. Age seems to be a bigger issue. There appears to be a lack of representation of older people using the API. Given that older folks may be less likely to self report, or if they wanted to self report, they may not be tech-savvy enough to use with a web interface. My assumption that people over 70 are probably experience product harm at a higher rate and are not reporting this."
   ]
  },
  {
   "cell_type": "markdown",
   "metadata": {},
   "source": [
    "## If we wanted to raise awareness about a certain tool or item, where should we focus our efforts"
   ]
  },
  {
   "cell_type": "markdown",
   "metadata": {
    "collapsed": true
   },
   "source": [
    "### Findings\n",
    "\n",
    "To construct this, I removed any incidents that did not cause any bodily harm and taking the top ten categories. There were several levels of severity. We can remove complaints that does not involve any physical harm. After removing these complaint, it is really interesting to see that \"Footwear\" was the product category of harm."
   ]
  },
  {
   "cell_type": "code",
   "execution_count": 80,
   "metadata": {
    "ExecuteTime": {
     "end_time": "2016-09-30T17:25:17.249267",
     "start_time": "2016-09-30T17:25:17.213546"
    },
    "collapsed": false
   },
   "outputs": [
    {
     "data": {
      "text/plain": [
       "Footwear                                                    774\n",
       "Computers (Equipment and Electronic Games)                  274\n",
       "Diapers                                                     156\n",
       "Electric Ranges or Ovens (Excl Counter-top Ovens)           134\n",
       "Bicycles and Accessories, (Excl.mountain or All-terrain)    108\n",
       "Baby Strollers                                              108\n",
       "Electric Coffee Makers or Teapots                           100\n",
       "Cribs                                                        94\n",
       "Bassinets or Cradles                                         88\n",
       "Name: ProductCategoryPublicName, dtype: int64"
      ]
     },
     "execution_count": 80,
     "metadata": {},
     "output_type": "execute_result"
    }
   ],
   "source": [
    "#removing minor harm incidents\n",
    "no_injuries = ['Incident, No Injury', 'Unspecified', 'Level of care not known',\n",
    "               'No Incident, No Injury', 'No First Aid or Medical Attention Received']\n",
    "damage = data.ix[~data['SeverityTypePublicName'].isin(no_injuries), :]\n",
    "damage.ProductCategoryPublicName.value_counts()[0:9]"
   ]
  },
  {
   "cell_type": "markdown",
   "metadata": {},
   "source": [
    "This is actually preplexing, so I decided to investigate further by analyzing the complaints filed for the \"Footwear\" category. To do this, I created a Word2Vec model that uses a convolution neural network for text analysis. This process maps a word and the linguistic context it is in to be able to calculate similarity between words. The purpose of this is to find words that related to each other. Rather than doing a simple cross tab of product categories, I can ingest the complaints and map out their relationship.  For instance, using the complaints that resulted in bodily harm, I found that footwear was associated with pain and walking. It seems that there is injuries related to Sketcher sneakers specifically since it was the only brand that showed up enough to be included in the model's dictionary. In fact, there was a [lawsuit](https://www.ftc.gov/news-events/press-releases/2012/05/skechers-will-pay-40-million-settle-ftc-charges-it-deceived) regarding Sketchers and their toning shoes"
   ]
  },
  {
   "cell_type": "markdown",
   "metadata": {},
   "source": [
    "## Are there certain complaints that people are filing? Quality issues vs injuries?"
   ]
  },
  {
   "cell_type": "markdown",
   "metadata": {},
   "source": [
    "### Findings\n",
    "\n",
    "Look below, we see that a vast majority are incidents with any bodily harm. Over 60% of all complaints were categorized as **Incident, No Injury**."
   ]
  },
  {
   "cell_type": "code",
   "execution_count": 81,
   "metadata": {
    "ExecuteTime": {
     "end_time": "2016-09-30T17:27:29.425960",
     "start_time": "2016-09-30T17:27:29.407867"
    },
    "collapsed": false
   },
   "outputs": [
    {
     "data": {
      "text/plain": [
       "Incident, No Injury                                                                                                                                                                                                          17916\n",
       "No First Aid or Medical Attention Received                                                                                                                                                                                    2672\n",
       "Received care that did not involve medical personnel (doctor, nurse, Emergency Medical Technician (EMT), etc.)                                                                                                                2177\n",
       "Treated by medical personnel (doctor, nurse, etc.) in any setting except a hospital emergency department.  Includes both medical (doctor's office, clinic, etc.) and non-medical (school, accident scene, etc.) settings.     1470\n",
       "Unspecified                                                                                                                                                                                                                   1330\n",
       "Treated and released from a hospital emergency department                                                                                                                                                                     1090\n",
       "Level of care not known                                                                                                                                                                                                        715\n",
       "Admitted for hospitalization                                                                                                                                                                                                   456\n",
       "No Incident, No Injury                                                                                                                                                                                                         224\n",
       "Missing                                                                                                                                                                                                                        135\n",
       "Death                                                                                                                                                                                                                           93\n",
       "Name: SeverityTypeDescription, dtype: int64"
      ]
     },
     "execution_count": 81,
     "metadata": {},
     "output_type": "execute_result"
    }
   ],
   "source": [
    "data.SeverityTypeDescription.value_counts()"
   ]
  },
  {
   "cell_type": "markdown",
   "metadata": {
    "collapsed": true
   },
   "source": [
    " Although, while it is label to have no injury, it does not necessarily mean that we can't take precaution. What I did was take the same approach as the previous model, I subsetted the data to only complaints that had \"no injury\" and ran a model to examine words used. From the analysis, we see that the word `to`, `was`, and `it` were the top three words. At first glance, it may seem that these words are meaningless, however if we examine words that are similar to it, we can start seeing a connection.\n",
    " \n",
    " For instance, the word most closely related to \"to\" was \"unable\" and \"trying\", which conveys a sense of urgency in attempting to turn something on or off. Examining the words \"unable,\" I was able to see it was related to words such as \"attempted\" and \"disconnect.\" Further investigation lead me to find it was dealing with a switch or a plug, possibly dealing with an electrical item.\n",
    " \n",
    " A similar picture is painted when trying to examine the word \"was.\" The words that felt out of place was \"emitting\", \"extinguish,\" and \"smelled.\" It is not surprise that after a few investigations of these words, that words like \"sparks\" and \"smoke\" started popping up more. This leads me to believe that these complaints have something to do with encounters closely related to fire. \n",
    " \n",
    "So while these complaints are maybe encounters with danger, it may be worthwile to review these complaints further with an eye out for fire related injuries or products that could cause fire.\n",
    " "
   ]
  },
  {
   "cell_type": "code",
   "execution_count": 121,
   "metadata": {
    "ExecuteTime": {
     "end_time": "2016-10-03T23:47:43.569648",
     "start_time": "2016-10-03T23:47:43.562096"
    },
    "collapsed": false
   },
   "outputs": [
    {
     "data": {
      "text/plain": [
       "[('came', 0.524124026298523),\n",
       " ('emitting', 0.5203149318695068),\n",
       " ('examined', 0.4794829785823822),\n",
       " ('smelled', 0.4679615795612335),\n",
       " ('immediately', 0.46619912981987),\n",
       " ('arrived', 0.4562903642654419),\n",
       " ('extinguish', 0.45025503635406494),\n",
       " ('sounded', 0.4436829388141632),\n",
       " ('next', 0.4382171630859375),\n",
       " ('mins', 0.43233776092529297)]"
      ]
     },
     "execution_count": 121,
     "metadata": {},
     "output_type": "execute_result"
    }
   ],
   "source": [
    "model.most_similar('was')"
   ]
  },
  {
   "cell_type": "markdown",
   "metadata": {},
   "source": [
    "## Who are the people who are actually reporting to us?"
   ]
  },
  {
   "cell_type": "markdown",
   "metadata": {},
   "source": [
    "This question is difficult to answer because of a lack of data on the reporter. From the cross tabulation in Section 3.1, we see that the majority of our the respondents are female and the largest age group are 40-60. That is probably the best guess of who are the people who are using the API."
   ]
  },
  {
   "cell_type": "markdown",
   "metadata": {},
   "source": [
    "# Further Suggestions\n",
    "\n",
    "While text analysis is helpful, it is often not sufficient. What would really help the analysis process would be include more information from the user. The following information would be helpful to collect to make conduct more actionable insight.\n",
    "\n",
    "* Ethnicity/Race\n",
    "* Self Reported Income\n",
    "* Geographic information\n",
    "   * Region (Mid Atlantic, New England, etc)\n",
    "   * Closest Metropolitan Area\n",
    "   * State\n",
    "   * City\n",
    "* Geolocation of IP address \n",
    "   * coordinates can be \"jittered\" to conserve anonymity\n",
    "   \n",
    "## Next Steps\n",
    "\n",
    "A great next step would be a deeper text analysis on shoes. It may be possible to train a neural network to consider smaller batches of words so we can capture the context better. Other steps that I would do if I had more time would be to find a way to fix up unicode issues with some of the complaints (there were special characters that prevented some of the complaints to be converted into strings).\n",
    "\n",
    "I would also look further into the category that had the most complaints: \"Electric Ranges and Stoves\" and see what the complaints were."
   ]
  },
  {
   "cell_type": "markdown",
   "metadata": {},
   "source": [
    "# References"
   ]
  },
  {
   "cell_type": "markdown",
   "metadata": {},
   "source": [
    "## Question 3.1"
   ]
  },
  {
   "cell_type": "markdown",
   "metadata": {},
   "source": [
    "The data that we worked with had limited information regarding the victim's demographics beside age and gender. However, that was enough to draw some base inferences. Below we can grab a counts of gender, which a plurality is females."
   ]
  },
  {
   "cell_type": "markdown",
   "metadata": {},
   "source": [
    "Age is a bit tricky, we have the victim's birthday in months. I converted it into years and break them down into 10 year age ranges so we can better examine the data. "
   ]
  },
  {
   "cell_type": "code",
   "execution_count": 4,
   "metadata": {
    "ExecuteTime": {
     "end_time": "2016-09-29T15:32:10.209399",
     "start_time": "2016-09-29T15:32:10.196306"
    },
    "collapsed": false
   },
   "outputs": [
    {
     "data": {
      "text/plain": [
       "Female         10629\n",
       "Male            9489\n",
       "Unspecified     6068\n",
       "Unknown         1957\n",
       "Missing          135\n",
       "Name: GenderDescription, dtype: int64"
      ]
     },
     "execution_count": 4,
     "metadata": {},
     "output_type": "execute_result"
    }
   ],
   "source": [
    "data.GenderDescription.value_counts()"
   ]
  },
  {
   "cell_type": "code",
   "execution_count": 46,
   "metadata": {
    "ExecuteTime": {
     "end_time": "2016-09-29T16:06:09.186196",
     "start_time": "2016-09-29T16:06:09.178811"
    },
    "collapsed": false,
    "scrolled": true
   },
   "outputs": [],
   "source": [
    "data['age'] = map(lambda x: x/12, data['VictimAgeInMonths'])\n",
    "labels = ['under 10', '10-20', '20-30', '30-40', '40-50', '50-60',\n",
    "         '60-70','70-80', '80-90', '90-100', 'over 100']\n",
    "data['age_range'] = pd.cut(data['age'], bins=np.arange(0,120,10), labels=labels)\n",
    "data['age_range'][data['age'] > 100] = 'over 100'"
   ]
  },
  {
   "cell_type": "code",
   "execution_count": 66,
   "metadata": {
    "ExecuteTime": {
     "end_time": "2016-09-29T16:20:52.154116",
     "start_time": "2016-09-29T16:20:52.142218"
    },
    "collapsed": false
   },
   "outputs": [
    {
     "name": "stderr",
     "output_type": "stream",
     "text": [
      "/usr/local/lib/python2.7/dist-packages/ipykernel/__main__.py:2: FutureWarning: sort is deprecated, use sort_values(inplace=True) for INPLACE sorting\n",
      "  from ipykernel import kernelapp as app\n"
     ]
    },
    {
     "data": {
      "text/plain": [
       "over 100       2\n",
       "90-100        12\n",
       "80-90        122\n",
       "70-80        524\n",
       "10-20        613\n",
       "20-30       1074\n",
       "60-70       1955\n",
       "30-40       2096\n",
       "under 10    2759\n",
       "40-50       2767\n",
       "50-60       2848\n",
       "Name: age_range, dtype: int64"
      ]
     },
     "execution_count": 66,
     "metadata": {},
     "output_type": "execute_result"
    }
   ],
   "source": [
    "counts = data['age_range'].value_counts()\n",
    "counts.sort()\n",
    "counts"
   ]
  },
  {
   "cell_type": "markdown",
   "metadata": {},
   "source": [
    "However after doing this, we still have around 13,000 people with an age of zero, whether it is that they did not fill in the age or that the incident involves infant is still unknown but looking at the distribution betweeen of the product that are affecting people with an age of 0 and the overall dataset, it appears that null values in the age range represents people who did not fill out an age when reporting"
   ]
  },
  {
   "cell_type": "code",
   "execution_count": 58,
   "metadata": {
    "ExecuteTime": {
     "end_time": "2016-09-29T16:14:56.003454",
     "start_time": "2016-09-29T16:14:55.983817"
    },
    "collapsed": false
   },
   "outputs": [
    {
     "data": {
      "text/plain": [
       "Electric Ranges or Ovens (Excl Counter-top Ovens)    1713\n",
       "Dishwashers                                          1089\n",
       "Microwave Ovens                                       691\n",
       "Refrigerators                                         519\n",
       "Gas Ranges or Ovens                                   493\n",
       "Electric Coffee Makers or Teapots                     317\n",
       "Ranges or Ovens, Not Specified                        279\n",
       "Light Bulbs                                           267\n",
       "Washing Machines, Other or Not Specified              249\n",
       "Name: ProductCategoryPublicName, dtype: int64"
      ]
     },
     "execution_count": 58,
     "metadata": {},
     "output_type": "execute_result"
    }
   ],
   "source": [
    "#Top products affect by people with 0 age\n",
    "data.ix[data['age_range'].isnull(), 'ProductCategoryPublicName'].value_counts()[0:9]"
   ]
  },
  {
   "cell_type": "code",
   "execution_count": 59,
   "metadata": {
    "ExecuteTime": {
     "end_time": "2016-09-29T16:16:18.430988",
     "start_time": "2016-09-29T16:16:18.412546"
    },
    "collapsed": false
   },
   "outputs": [
    {
     "data": {
      "text/plain": [
       "Electric Ranges or Ovens (Excl Counter-top Ovens)    2704\n",
       "Dishwashers                                          1605\n",
       "Microwave Ovens                                      1095\n",
       "Footwear                                              949\n",
       "Refrigerators                                         888\n",
       "Gas Ranges or Ovens                                   872\n",
       "Computers (Equipment and Electronic Games)            838\n",
       "Electric Coffee Makers or Teapots                     748\n",
       "Nonmetal Cookware (Nonelectric)                       530\n",
       "Name: ProductCategoryPublicName, dtype: int64"
      ]
     },
     "execution_count": 59,
     "metadata": {},
     "output_type": "execute_result"
    }
   ],
   "source": [
    "#top products that affect people overall\n",
    "data.ProductCategoryPublicName.value_counts()[0:9]"
   ]
  },
  {
   "cell_type": "markdown",
   "metadata": {},
   "source": [
    "## Question 3.2"
   ]
  },
  {
   "cell_type": "markdown",
   "metadata": {},
   "source": [
    "At first glance, we can look at the products that were reported, like below. And see that Eletric Ranges or Ovens is at top in terms of harm. However, there are levels of severity within the API that needs to be filtered before we can assess which products causes the most harm."
   ]
  },
  {
   "cell_type": "code",
   "execution_count": 70,
   "metadata": {
    "ExecuteTime": {
     "end_time": "2016-09-29T17:00:55.544015",
     "start_time": "2016-09-29T17:00:55.527485"
    },
    "collapsed": false
   },
   "outputs": [
    {
     "data": {
      "text/plain": [
       "Electric Ranges or Ovens (Excl Counter-top Ovens)    2704\n",
       "Dishwashers                                          1605\n",
       "Microwave Ovens                                      1095\n",
       "Footwear                                              949\n",
       "Refrigerators                                         888\n",
       "Gas Ranges or Ovens                                   872\n",
       "Computers (Equipment and Electronic Games)            838\n",
       "Electric Coffee Makers or Teapots                     748\n",
       "Nonmetal Cookware (Nonelectric)                       530\n",
       "Name: ProductCategoryPublicName, dtype: int64"
      ]
     },
     "execution_count": 70,
     "metadata": {},
     "output_type": "execute_result"
    }
   ],
   "source": [
    "#overall products listed\n",
    "data.ProductCategoryPublicName.value_counts()[0:9]"
   ]
  },
  {
   "cell_type": "code",
   "execution_count": 73,
   "metadata": {
    "ExecuteTime": {
     "end_time": "2016-09-29T17:02:38.731655",
     "start_time": "2016-09-29T17:02:38.696895"
    },
    "collapsed": false
   },
   "outputs": [
    {
     "data": {
      "text/plain": [
       "Footwear                                                    774\n",
       "Computers (Equipment and Electronic Games)                  274\n",
       "Diapers                                                     156\n",
       "Electric Ranges or Ovens (Excl Counter-top Ovens)           134\n",
       "Bicycles and Accessories, (Excl.mountain or All-terrain)    108\n",
       "Baby Strollers                                              108\n",
       "Electric Coffee Makers or Teapots                           100\n",
       "Cribs                                                        94\n",
       "Bassinets or Cradles                                         88\n",
       "Name: ProductCategoryPublicName, dtype: int64"
      ]
     },
     "execution_count": 73,
     "metadata": {},
     "output_type": "execute_result"
    }
   ],
   "source": [
    "#removing minor harm incidents\n",
    "no_injuries = ['Incident, No Injury', 'Unspecified', 'Level of care not known',\n",
    "               'No Incident, No Injury', 'No First Aid or Medical Attention Received']\n",
    "damage = data.ix[~data['SeverityTypePublicName'].isin(no_injuries), :]\n",
    "damage.ProductCategoryPublicName.value_counts()[0:9]"
   ]
  },
  {
   "cell_type": "markdown",
   "metadata": {},
   "source": [
    "This shows that incidents where there are actually injuries and medical attention was given was that in footwear, which was weird. To explore this, I created a Word2Vec model that maps out how certain words relate to each other. To train the model, I used the comments that were made from the API. This will train a model and help us identify words that are similar. For instance, if you type in foot, you will get `left` and `right` as these words are most closely related to the word `foot`. However after some digging around, I found out that the word \"walking\" was associated with \"painful\". I have some reason to believe that there are orthopedic injuries associated with shoes and people have been experience pain while walking with Sketchers that were supposed to tone up their bodies and having some instability or balance issues."
   ]
  },
  {
   "cell_type": "code",
   "execution_count": 115,
   "metadata": {
    "ExecuteTime": {
     "end_time": "2016-10-03T23:44:22.499582",
     "start_time": "2016-10-03T23:44:22.485285"
    },
    "collapsed": false
   },
   "outputs": [
    {
     "data": {
      "text/plain": [
       "[('while', 0.9986404180526733),\n",
       " ('up', 0.9979861378669739),\n",
       " ('skecher', 0.9972473978996277),\n",
       " ('toning', 0.9970976114273071),\n",
       " ('suffered', 0.9960523843765259),\n",
       " ('sketchers', 0.9956487417221069),\n",
       " ('bought', 0.9945806264877319),\n",
       " ('instability', 0.9944456815719604),\n",
       " ('wore', 0.9942538142204285),\n",
       " ('fell', 0.9942276477813721)]"
      ]
     },
     "execution_count": 115,
     "metadata": {},
     "output_type": "execute_result"
    }
   ],
   "source": [
    "model = gensim.models.Word2Vec.load('/home/datauser/cpsc/models/footwear')\n",
    "model.most_similar('walking')"
   ]
  },
  {
   "cell_type": "code",
   "execution_count": 84,
   "metadata": {
    "ExecuteTime": {
     "end_time": "2016-09-30T17:39:21.797215",
     "start_time": "2016-09-30T17:39:21.788341"
    },
    "collapsed": false
   },
   "outputs": [
    {
     "data": {
      "text/plain": [
       "[('of', 0.9983473420143127),\n",
       " ('bottom', 0.9975317716598511),\n",
       " ('shoe', 0.9967656135559082),\n",
       " ('began', 0.9965482950210571),\n",
       " ('sneakers', 0.9964351654052734),\n",
       " ('stairs', 0.9962997436523438),\n",
       " ('balance', 0.9961462020874023),\n",
       " ('ago', 0.9960271716117859),\n",
       " ('last', 0.9959736466407776),\n",
       " ('new', 0.9958116412162781)]"
      ]
     },
     "execution_count": 84,
     "metadata": {},
     "output_type": "execute_result"
    }
   ],
   "source": [
    "model.most_similar('injury')"
   ]
  },
  {
   "cell_type": "code",
   "execution_count": 94,
   "metadata": {
    "ExecuteTime": {
     "end_time": "2016-09-30T17:40:47.393719",
     "start_time": "2016-09-30T17:40:47.385329"
    },
    "collapsed": false
   },
   "outputs": [
    {
     "data": {
      "text/plain": [
       "[('due', 0.9992794990539551),\n",
       " ('suffered', 0.9977741241455078),\n",
       " ('while', 0.9953591823577881),\n",
       " ('up', 0.9946755170822144),\n",
       " ('walking', 0.9944456815719604),\n",
       " ('sketchers', 0.994174599647522),\n",
       " ('skecher', 0.9933757781982422),\n",
       " ('toning', 0.9927452802658081),\n",
       " ('sketcher', 0.9924877882003784),\n",
       " ('of', 0.9900130033493042)]"
      ]
     },
     "execution_count": 94,
     "metadata": {},
     "output_type": "execute_result"
    }
   ],
   "source": [
    "model.most_similar('instability')"
   ]
  },
  {
   "cell_type": "markdown",
   "metadata": {
    "collapsed": true
   },
   "source": [
    "## Question 3.3"
   ]
  },
  {
   "cell_type": "code",
   "execution_count": 122,
   "metadata": {
    "ExecuteTime": {
     "end_time": "2016-10-03T23:57:07.245166",
     "start_time": "2016-10-03T23:57:07.213633"
    },
    "collapsed": false
   },
   "outputs": [
    {
     "data": {
      "text/plain": [
       "[('to', 55216), ('was', 37765), ('it', 35055), ('is', 21825), ('not', 19165)]"
      ]
     },
     "execution_count": 122,
     "metadata": {},
     "output_type": "execute_result"
    }
   ],
   "source": [
    "model = gensim.models.Word2Vec.load('/home/datauser/cpsc/models/severity')\n",
    "items_dict = {}\n",
    "for word, vocab_obj in model.vocab.items():\n",
    "    items_dict[word] = vocab_obj.count\n",
    "sorted_dict = sorted(items_dict.items(), key=operator.itemgetter(1))\n",
    "sorted_dict.reverse()\n",
    "sorted_dict[0:5]"
   ]
  }
 ],
 "metadata": {
  "kernelspec": {
   "display_name": "Python 2",
   "language": "python",
   "name": "python2"
  },
  "language_info": {
   "codemirror_mode": {
    "name": "ipython",
    "version": 2
   },
   "file_extension": ".py",
   "mimetype": "text/x-python",
   "name": "python",
   "nbconvert_exporter": "python",
   "pygments_lexer": "ipython2",
   "version": "2.7.12"
  },
  "nav_menu": {},
  "toc": {
   "navigate_menu": true,
   "number_sections": true,
   "sideBar": true,
   "threshold": 6,
   "toc_cell": true,
   "toc_section_display": "block",
   "toc_window_display": true
  },
  "toc_position": {
   "height": "847px",
   "left": "0px",
   "right": "1376px",
   "top": "106px",
   "width": "220px"
  }
 },
 "nbformat": 4,
 "nbformat_minor": 0
}
