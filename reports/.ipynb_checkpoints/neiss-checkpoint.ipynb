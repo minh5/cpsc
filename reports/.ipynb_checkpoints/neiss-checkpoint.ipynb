{
 "cells": [
  {
   "cell_type": "code",
   "execution_count": 1,
   "metadata": {
    "ExecuteTime": {
     "end_time": "2016-10-20T20:38:21.538746",
     "start_time": "2016-10-20T20:38:20.480692"
    },
    "collapsed": true
   },
   "outputs": [],
   "source": [
    "import pandas as pd\n",
    "\n",
    "import neiss"
   ]
  },
  {
   "cell_type": "code",
   "execution_count": 2,
   "metadata": {
    "ExecuteTime": {
     "end_time": "2016-10-20T20:38:37.958509",
     "start_time": "2016-10-20T20:38:21.539858"
    },
    "collapsed": false
   },
   "outputs": [],
   "source": [
    "#loading in data and preparations\n",
    "raw = pd.read_csv('/home/datauser/cpsc/data/processed/neiss/neiss-2015.csv')\n",
    "cleaned = neiss.cleaner(raw)\n",
    "data = neiss.query(cleaned.processed_data, cleaned.crosstab)"
   ]
  },
  {
   "cell_type": "markdown",
   "metadata": {},
   "source": [
    "## Are there products we should be aware of?\n",
    "\n",
    "To answer this question, I approached it two ways. One way is to tabulate the total number of producted queried by hospitals and another is to look at the top items reported by each item.\n",
    "\n",
    "The top ten producted reported by hospitals are listed below. It appears that 1842 and 1807 are the top products that most hospital report."
   ]
  },
  {
   "cell_type": "code",
   "execution_count": 3,
   "metadata": {
    "ExecuteTime": {
     "end_time": "2016-10-20T20:38:37.992312",
     "start_time": "2016-10-20T20:38:37.959532"
    },
    "collapsed": false
   },
   "outputs": [
    {
     "data": {
      "text/plain": [
       "1842    28712\n",
       "1807    28351\n",
       "4076    16784\n",
       "1205    14147\n",
       "5040    12787\n",
       "1211    11664\n",
       "4074     8271\n",
       "1884     7783\n",
       "1893     7723\n",
       "Name: prod1, dtype: int64"
      ]
     },
     "execution_count": 3,
     "metadata": {},
     "output_type": "execute_result"
    }
   ],
   "source": [
    "raw.prod1.value_counts()[0:9]"
   ]
  },
  {
   "cell_type": "markdown",
   "metadata": {
    "ExecuteTime": {
     "end_time": "2016-10-20T20:38:37.995745",
     "start_time": "2016-10-20T20:38:37.993333"
    }
   },
   "source": [
    " Looking further, I examine what hospitals report this the most, so we can examine hospitals that report these products the most."
   ]
  },
  {
   "cell_type": "code",
   "execution_count": 5,
   "metadata": {
    "ExecuteTime": {
     "end_time": "2016-10-20T20:38:47.961218",
     "start_time": "2016-10-20T20:38:47.872054"
    },
    "collapsed": false
   },
   "outputs": [
    {
     "data": {
      "text/plain": [
       "hosp_21    2132\n",
       "hosp_95    1762\n",
       "hosp_38    1171\n",
       "hosp_3     1104\n",
       "hosp_61     920\n",
       "hosp_51     920\n",
       "hosp_31     914\n",
       "hosp_17     777\n",
       "hosp_42     721\n",
       "Name: hospital, dtype: int64"
      ]
     },
     "execution_count": 5,
     "metadata": {},
     "output_type": "execute_result"
    }
   ],
   "source": [
    "data.get_hospitals_by_product('product_1842')"
   ]
  },
  {
   "cell_type": "code",
   "execution_count": 6,
   "metadata": {
    "ExecuteTime": {
     "end_time": "2016-10-20T20:38:48.267099",
     "start_time": "2016-10-20T20:38:48.188540"
    },
    "collapsed": false
   },
   "outputs": [
    {
     "data": {
      "text/plain": [
       "hosp_21    2281\n",
       "hosp_95    2043\n",
       "hosp_17    1679\n",
       "hosp_89    1598\n",
       "hosp_14    1495\n",
       "hosp_63    1109\n",
       "hosp_73    1071\n",
       "hosp_2      946\n",
       "hosp_42     785\n",
       "Name: hospital, dtype: int64"
      ]
     },
     "execution_count": 6,
     "metadata": {},
     "output_type": "execute_result"
    }
   ],
   "source": [
    "data.get_hospitals_by_product('product_1807')"
   ]
  },
  {
   "cell_type": "markdown",
   "metadata": {},
   "source": [
    "We can also view these as plots and compare the incident rates of these products through different hospitals"
   ]
  },
  {
   "cell_type": "code",
   "execution_count": 7,
   "metadata": {
    "ExecuteTime": {
     "end_time": "2016-10-20T20:38:50.522927",
     "start_time": "2016-10-20T20:38:49.300015"
    },
    "collapsed": false
   },
   "outputs": [
    {
     "data": {
      "text/html": [
       "<iframe id=\"igraph\" scrolling=\"no\" style=\"border:none;\" seamless=\"seamless\" src=\"https://plot.ly/~minh5/73.embed\" height=\"525px\" width=\"100%\"></iframe>"
      ],
      "text/plain": [
       "<plotly.tools.PlotlyDisplay object>"
      ]
     },
     "execution_count": 7,
     "metadata": {},
     "output_type": "execute_result"
    }
   ],
   "source": [
    "data.plot_product('product_1842')"
   ]
  },
  {
   "cell_type": "code",
   "execution_count": 8,
   "metadata": {
    "ExecuteTime": {
     "end_time": "2016-10-20T20:38:51.749516",
     "start_time": "2016-10-20T20:38:50.524372"
    },
    "collapsed": false
   },
   "outputs": [
    {
     "data": {
      "text/html": [
       "<iframe id=\"igraph\" scrolling=\"no\" style=\"border:none;\" seamless=\"seamless\" src=\"https://plot.ly/~minh5/75.embed\" height=\"525px\" width=\"100%\"></iframe>"
      ],
      "text/plain": [
       "<plotly.tools.PlotlyDisplay object>"
      ]
     },
     "execution_count": 8,
     "metadata": {},
     "output_type": "execute_result"
    }
   ],
   "source": [
    "data.plot_product('product_1807')"
   ]
  },
  {
   "cell_type": "markdown",
   "metadata": {},
   "source": [
    "Looking at these, it appears that there are some overlap between the hospitals. Hospital 17, 21, 42, and 95 are the 4 common hospital that are in the top ten of both these products. We will turn to a hospital examination down the road."
   ]
  },
  {
   "cell_type": "code",
   "execution_count": 9,
   "metadata": {
    "ExecuteTime": {
     "end_time": "2016-10-20T20:38:51.831435",
     "start_time": "2016-10-20T20:38:51.750931"
    },
    "collapsed": false
   },
   "outputs": [
    {
     "data": {
      "text/plain": [
       "{'hosp_17', 'hosp_21', 'hosp_42', 'hosp_95'}"
      ]
     },
     "execution_count": 9,
     "metadata": {},
     "output_type": "execute_result"
    }
   ],
   "source": [
    "set(data.get_hospitals_by_product('product_1842').index.tolist()) & set(data.get_hospitals_by_product('product_1807').index.tolist())"
   ]
  },
  {
   "cell_type": "markdown",
   "metadata": {},
   "source": [
    "## Could be useful to compare stratum types - Do large hospitals see different rates of injury than small hospitals?\n"
   ]
  },
  {
   "cell_type": "markdown",
   "metadata": {},
   "source": [
    "Another way of examining product harm would not only to count the total numbers of products but also to see what is the top product that is reported for each hosptial. Here we can look at not only the sheer number which could be due to over reporting or awareness but also to see if there are geographic differences for product harm. However, after examining this, we see that 70 out of the 82 hospitals surveyed have product 1842 and 1807 as the top product.\n",
    "\n",
    "However an interesting finding is that product_1267, product_3299, and product_3283 are in the top ten list of top products by hospital but not in the top ten overall. However, the number is small as it only affects 5 hospitals and 14,844 reported cases. It would be interesting to see where these five hospital are at and why these products are the top of their product harm.\n"
   ]
  },
  {
   "cell_type": "code",
   "execution_count": 10,
   "metadata": {
    "ExecuteTime": {
     "end_time": "2016-10-20T20:38:54.313586",
     "start_time": "2016-10-20T20:38:52.198085"
    },
    "collapsed": false
   },
   "outputs": [
    {
     "data": {
      "text/plain": [
       "product_1842    41\n",
       "product_1807    29\n",
       "product_4076     3\n",
       "product_1267     2\n",
       "product_1211     2\n",
       "product_5040     2\n",
       "product_3299     2\n",
       "product_3283     1\n",
       "dtype: int64"
      ]
     },
     "execution_count": 10,
     "metadata": {},
     "output_type": "execute_result"
    }
   ],
   "source": [
    "data.top_product_for_hospital()"
   ]
  },
  {
   "cell_type": "markdown",
   "metadata": {},
   "source": [
    "## Do we see meaningful trends when race is reported?\n"
   ]
  },
  {
   "cell_type": "code",
   "execution_count": 15,
   "metadata": {
    "ExecuteTime": {
     "end_time": "2016-10-20T20:43:45.682186",
     "start_time": "2016-10-20T20:43:43.547221"
    },
    "collapsed": false
   },
   "outputs": [
    {
     "data": {
      "text/plain": [
       "{'product_1211',\n",
       " 'product_1267',\n",
       " 'product_1807',\n",
       " 'product_1842',\n",
       " 'product_3283',\n",
       " 'product_3299',\n",
       " 'product_4076',\n",
       " 'product_5040'}"
      ]
     },
     "execution_count": 15,
     "metadata": {},
     "output_type": "execute_result"
    }
   ],
   "source": [
    "Sadly there is no trend regarindg"
   ]
  },
  {
   "cell_type": "code",
   "execution_count": 19,
   "metadata": {
    "ExecuteTime": {
     "end_time": "2016-10-20T20:46:47.825359",
     "start_time": "2016-10-20T20:46:47.816520"
    },
    "collapsed": false
   },
   "outputs": [
    {
     "data": {
      "text/plain": [
       "(638, 22)"
      ]
     },
     "execution_count": 19,
     "metadata": {},
     "output_type": "execute_result"
    }
   ],
   "source": [
    "raw.ix[raw['prod1']== 3283,:].shape"
   ]
  },
  {
   "cell_type": "code",
   "execution_count": 20,
   "metadata": {
    "ExecuteTime": {
     "end_time": "2016-10-20T20:46:59.630502",
     "start_time": "2016-10-20T20:46:59.625356"
    },
    "collapsed": false
   },
   "outputs": [
    {
     "data": {
      "text/plain": [
       "14844"
      ]
     },
     "execution_count": 20,
     "metadata": {},
     "output_type": "execute_result"
    }
   ],
   "source": [
    "638 + 7079 + 7127"
   ]
  },
  {
   "cell_type": "code",
   "execution_count": null,
   "metadata": {
    "collapsed": true
   },
   "outputs": [],
   "source": []
  }
 ],
 "metadata": {
  "kernelspec": {
   "display_name": "Python 3",
   "language": "python",
   "name": "python3"
  },
  "language_info": {
   "codemirror_mode": {
    "name": "ipython",
    "version": 3
   },
   "file_extension": ".py",
   "mimetype": "text/x-python",
   "name": "python",
   "nbconvert_exporter": "python",
   "pygments_lexer": "ipython3",
   "version": "3.5.2"
  },
  "nav_menu": {},
  "toc": {
   "navigate_menu": true,
   "number_sections": true,
   "sideBar": true,
   "threshold": 6,
   "toc_cell": false,
   "toc_section_display": "block",
   "toc_window_display": false
  }
 },
 "nbformat": 4,
 "nbformat_minor": 0
}
