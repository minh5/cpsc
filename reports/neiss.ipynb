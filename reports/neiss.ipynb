{
 "cells": [
  {
   "cell_type": "code",
   "execution_count": 2,
   "metadata": {
    "ExecuteTime": {
     "end_time": "2016-10-21T18:15:28.428503",
     "start_time": "2016-10-21T18:15:27.355820"
    },
    "collapsed": false
   },
   "outputs": [],
   "source": [
    "import pandas as pd\n",
    "import statsmodels\n",
    "import numpy as np\n",
    "\n",
    "import neiss"
   ]
  },
  {
   "cell_type": "code",
   "execution_count": 3,
   "metadata": {
    "ExecuteTime": {
     "end_time": "2016-10-21T18:16:04.600773",
     "start_time": "2016-10-21T18:15:28.429752"
    },
    "collapsed": false
   },
   "outputs": [],
   "source": [
    "#loading in data and preparations\n",
    "raw = pd.read_csv('/home/datauser/cpsc/data/processed/neiss/neiss-2015.csv')\n",
    "cleaned = neiss.cleaner(raw)\n",
    "data = neiss.query(cleaned.processed_data, cleaned.crosstab)"
   ]
  },
  {
   "cell_type": "markdown",
   "metadata": {},
   "source": [
    "## Are there products we should be aware of?\n",
    "\n",
    "To answer this question, I approached it two ways. One way is to tabulate the total number of producted queried by hospitals and another is to look at the top items reported by each item.\n",
    "\n",
    "The top ten producted reported by hospitals are listed below. It appears that 1842 and 1807 are the top products that most hospital report."
   ]
  },
  {
   "cell_type": "code",
   "execution_count": null,
   "metadata": {
    "ExecuteTime": {
     "end_time": "2016-10-21T16:26:15.865456",
     "start_time": "2016-10-21T16:26:15.797643"
    },
    "collapsed": false
   },
   "outputs": [],
   "source": [
    "data.data['product'].value_counts()[0:9]"
   ]
  },
  {
   "cell_type": "markdown",
   "metadata": {
    "ExecuteTime": {
     "end_time": "2016-10-20T20:38:37.995745",
     "start_time": "2016-10-20T20:38:37.993333"
    }
   },
   "source": [
    " Looking further, I examine what hospitals report this the most, so we can examine hospitals that report these products the most."
   ]
  },
  {
   "cell_type": "code",
   "execution_count": null,
   "metadata": {
    "ExecuteTime": {
     "end_time": "2016-10-20T20:38:47.961218",
     "start_time": "2016-10-20T20:38:47.872054"
    },
    "collapsed": false
   },
   "outputs": [],
   "source": [
    "data.get_hospitals_by_product('product_1842')"
   ]
  },
  {
   "cell_type": "code",
   "execution_count": null,
   "metadata": {
    "ExecuteTime": {
     "end_time": "2016-10-20T20:38:48.267099",
     "start_time": "2016-10-20T20:38:48.188540"
    },
    "collapsed": false
   },
   "outputs": [],
   "source": [
    "data.get_hospitals_by_product('product_1807')"
   ]
  },
  {
   "cell_type": "markdown",
   "metadata": {},
   "source": [
    "We can also view these as plots and compare the incident rates of these products through different hospitals"
   ]
  },
  {
   "cell_type": "code",
   "execution_count": null,
   "metadata": {
    "ExecuteTime": {
     "end_time": "2016-10-20T20:38:50.522927",
     "start_time": "2016-10-20T20:38:49.300015"
    },
    "collapsed": false
   },
   "outputs": [],
   "source": [
    "data.plot_product('product_1842')"
   ]
  },
  {
   "cell_type": "code",
   "execution_count": null,
   "metadata": {
    "ExecuteTime": {
     "end_time": "2016-10-20T20:38:51.749516",
     "start_time": "2016-10-20T20:38:50.524372"
    },
    "collapsed": false
   },
   "outputs": [],
   "source": [
    "data.plot_product('product_1807')"
   ]
  },
  {
   "cell_type": "markdown",
   "metadata": {},
   "source": [
    "Looking at these, it appears that there are some overlap between the hospitals. Hospital 17, 21, 42, and 95 are the 4 common hospital that are in the top ten of both these products. We will turn to a hospital examination down the road."
   ]
  },
  {
   "cell_type": "code",
   "execution_count": null,
   "metadata": {
    "ExecuteTime": {
     "end_time": "2016-10-20T20:38:51.831435",
     "start_time": "2016-10-20T20:38:51.750931"
    },
    "collapsed": false
   },
   "outputs": [],
   "source": [
    "set(data.get_hospitals_by_product('product_1842').index.tolist()) & set(data.get_hospitals_by_product('product_1807').index.tolist())"
   ]
  },
  {
   "cell_type": "markdown",
   "metadata": {},
   "source": [
    "## Could be useful to compare stratum types - Do large hospitals see different rates of injury than small hospitals?\n"
   ]
  },
  {
   "cell_type": "markdown",
   "metadata": {},
   "source": [
    "Another way of examining product harm would not only to count the total numbers of products but also to see what is the top product that is reported for each hosptial. Here we can look at not only the sheer number which could be due to over reporting or awareness but also to see if there are geographic differences for product harm. However, after examining this, we see that 70 out of the 82 hospitals surveyed have product 1842 and 1807 as the top product.\n",
    "\n",
    "However an interesting finding is that product_1267, product_3299, and product_3283 are in the top ten list of top products by hospital but not in the top ten overall. However, the number is small as it only affects 5 hospitals and 14,844 reported cases. It would be interesting to see where these five hospital are at and why these products are the top of their product harm.\n"
   ]
  },
  {
   "cell_type": "code",
   "execution_count": null,
   "metadata": {
    "ExecuteTime": {
     "end_time": "2016-10-20T20:38:54.313586",
     "start_time": "2016-10-20T20:38:52.198085"
    },
    "collapsed": false
   },
   "outputs": [],
   "source": [
    "data.top_product_for_hospital()"
   ]
  },
  {
   "cell_type": "markdown",
   "metadata": {},
   "source": [
    "Another way of approaching would be to fit a Negative Binomial Regression to see if there are any meaningful differences between the sizes of the hospitals. I use a negative binomial regression rather than a poisson regression because there is strong evidence of overdispersion, that is, the variance of the data is much higher than the mean, as shown below."
   ]
  },
  {
   "cell_type": "code",
   "execution_count": null,
   "metadata": {
    "ExecuteTime": {
     "end_time": "2016-10-21T18:15:25.648090",
     "start_time": "2016-10-21T18:15:25.602360"
    },
    "collapsed": false
   },
   "outputs": [],
   "source": [
    "counts = data.data.ix[data.data['product'] == 'product_1842',:]['hospital'].value_counts()\n",
    "print('variance of product 1842 counts:', np.var(counts.values))\n",
    "print('mean of product 1842 counts:', np.mean(counts.values))\n"
   ]
  },
  {
   "cell_type": "markdown",
   "metadata": {},
   "source": [
    "## Do we see meaningful trends when race is reported?\n"
   ]
  },
  {
   "cell_type": "code",
   "execution_count": null,
   "metadata": {
    "ExecuteTime": {
     "end_time": "2016-10-20T20:43:45.682186",
     "start_time": "2016-10-20T20:43:43.547221"
    },
    "collapsed": false
   },
   "outputs": [],
   "source": [
    "Sadly there is no trend regarindg"
   ]
  },
  {
   "cell_type": "code",
   "execution_count": 4,
   "metadata": {
    "ExecuteTime": {
     "end_time": "2016-10-21T18:16:04.764705",
     "start_time": "2016-10-21T18:16:04.601970"
    },
    "collapsed": false
   },
   "outputs": [
    {
     "data": {
      "text/html": [
       "<div>\n",
       "<table border=\"1\" class=\"dataframe\">\n",
       "  <thead>\n",
       "    <tr style=\"text-align: right;\">\n",
       "      <th></th>\n",
       "      <th>hospital</th>\n",
       "      <th>hospital_x</th>\n",
       "      <th>hospital_y</th>\n",
       "      <th>stratum_C</th>\n",
       "      <th>stratum_S</th>\n",
       "      <th>stratum_M</th>\n",
       "      <th>stratum_L</th>\n",
       "      <th>stratum_V</th>\n",
       "    </tr>\n",
       "  </thead>\n",
       "  <tbody>\n",
       "    <tr>\n",
       "      <th>38</th>\n",
       "      <td>hosp_21</td>\n",
       "      <td>2132</td>\n",
       "      <td>hosp_21</td>\n",
       "      <td>0</td>\n",
       "      <td>0</td>\n",
       "      <td>0</td>\n",
       "      <td>0</td>\n",
       "      <td>1</td>\n",
       "    </tr>\n",
       "    <tr>\n",
       "      <th>39</th>\n",
       "      <td>hosp_21</td>\n",
       "      <td>2132</td>\n",
       "      <td>hosp_21</td>\n",
       "      <td>0</td>\n",
       "      <td>0</td>\n",
       "      <td>0</td>\n",
       "      <td>0</td>\n",
       "      <td>1</td>\n",
       "    </tr>\n",
       "    <tr>\n",
       "      <th>41</th>\n",
       "      <td>hosp_21</td>\n",
       "      <td>2132</td>\n",
       "      <td>hosp_21</td>\n",
       "      <td>0</td>\n",
       "      <td>0</td>\n",
       "      <td>0</td>\n",
       "      <td>0</td>\n",
       "      <td>1</td>\n",
       "    </tr>\n",
       "    <tr>\n",
       "      <th>61</th>\n",
       "      <td>hosp_21</td>\n",
       "      <td>2132</td>\n",
       "      <td>hosp_21</td>\n",
       "      <td>0</td>\n",
       "      <td>0</td>\n",
       "      <td>0</td>\n",
       "      <td>0</td>\n",
       "      <td>1</td>\n",
       "    </tr>\n",
       "    <tr>\n",
       "      <th>66</th>\n",
       "      <td>hosp_21</td>\n",
       "      <td>2132</td>\n",
       "      <td>hosp_21</td>\n",
       "      <td>0</td>\n",
       "      <td>0</td>\n",
       "      <td>0</td>\n",
       "      <td>0</td>\n",
       "      <td>1</td>\n",
       "    </tr>\n",
       "  </tbody>\n",
       "</table>\n",
       "</div>"
      ],
      "text/plain": [
       "   hospital  hospital_x hospital_y  stratum_C  stratum_S  stratum_M  \\\n",
       "38  hosp_21        2132    hosp_21          0          0          0   \n",
       "39  hosp_21        2132    hosp_21          0          0          0   \n",
       "41  hosp_21        2132    hosp_21          0          0          0   \n",
       "61  hosp_21        2132    hosp_21          0          0          0   \n",
       "66  hosp_21        2132    hosp_21          0          0          0   \n",
       "\n",
       "    stratum_L  stratum_V  \n",
       "38          0          1  \n",
       "39          0          1  \n",
       "41          0          1  \n",
       "61          0          1  \n",
       "66          0          1  "
      ]
     },
     "execution_count": 4,
     "metadata": {},
     "output_type": "execute_result"
    }
   ],
   "source": [
    "df = data.prepare_stratum_modeling2('product_1842')\n",
    "df.head()"
   ]
  },
  {
   "cell_type": "code",
   "execution_count": null,
   "metadata": {
    "ExecuteTime": {
     "end_time": "2016-10-21T17:37:33.304123",
     "start_time": "2016-10-21T17:37:33.169585"
    },
    "collapsed": false
   },
   "outputs": [],
   "source": [
    "counts"
   ]
  },
  {
   "cell_type": "code",
   "execution_count": null,
   "metadata": {
    "ExecuteTime": {
     "end_time": "2016-10-21T17:40:42.618906",
     "start_time": "2016-10-21T17:40:42.420518"
    },
    "collapsed": false,
    "scrolled": true
   },
   "outputs": [],
   "source": []
  },
  {
   "cell_type": "code",
   "execution_count": null,
   "metadata": {
    "ExecuteTime": {
     "end_time": "2016-10-21T18:13:19.259392",
     "start_time": "2016-10-21T18:13:19.016161"
    },
    "collapsed": false
   },
   "outputs": [],
   "source": []
  },
  {
   "cell_type": "code",
   "execution_count": null,
   "metadata": {
    "collapsed": true
   },
   "outputs": [],
   "source": []
  }
 ],
 "metadata": {
  "kernelspec": {
   "display_name": "Python 3",
   "language": "python",
   "name": "python3"
  },
  "nav_menu": {},
  "toc": {
   "navigate_menu": true,
   "number_sections": true,
   "sideBar": true,
   "threshold": 6,
   "toc_cell": false,
   "toc_section_display": "block",
   "toc_window_display": false
  }
 },
 "nbformat": 4,
 "nbformat_minor": 0
}
