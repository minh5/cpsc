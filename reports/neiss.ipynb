{
 "cells": [
  {
   "cell_type": "markdown",
   "metadata": {
    "toc": "true"
   },
   "source": [
    "# Table of Contents\n",
    " <p><div class=\"lev2 toc-item\"><a href=\"#Are-there-products-we-should-be-aware-of?\" data-toc-modified-id=\"Are-there-products-we-should-be-aware-of?-01\"><span class=\"toc-item-num\">0.1&nbsp;&nbsp;</span>Are there products we should be aware of?</a></div><div class=\"lev2 toc-item\"><a href=\"#Could-be-useful-to-compare-stratum-types---Do-large-hospitals-see-different-rates-of-injury-than-small-hospitals?\" data-toc-modified-id=\"Could-be-useful-to-compare-stratum-types---Do-large-hospitals-see-different-rates-of-injury-than-small-hospitals?-02\"><span class=\"toc-item-num\">0.2&nbsp;&nbsp;</span>Could be useful to compare stratum types - Do large hospitals see different rates of injury than small hospitals?</a></div><div class=\"lev2 toc-item\"><a href=\"#Do-we-see-meaningful-trends-when-race-is-reported?\" data-toc-modified-id=\"Do-we-see-meaningful-trends-when-race-is-reported?-03\"><span class=\"toc-item-num\">0.3&nbsp;&nbsp;</span>Do we see meaningful trends when race is reported?</a></div><div class=\"lev2 toc-item\"><a href=\"#Conclusion\" data-toc-modified-id=\"Conclusion-04\"><span class=\"toc-item-num\">0.4&nbsp;&nbsp;</span>Conclusion</a></div>"
   ]
  },
  {
   "cell_type": "code",
   "execution_count": 1,
   "metadata": {
    "ExecuteTime": {
     "end_time": "2016-12-10T20:21:04.527279",
     "start_time": "2016-12-10T20:21:04.442399"
    },
    "collapsed": false
   },
   "outputs": [
    {
     "ename": "ImportError",
     "evalue": "No module named 'statsmodels'",
     "output_type": "error",
     "traceback": [
      "\u001b[0;31m---------------------------------------------------------------------------\u001b[0m",
      "\u001b[0;31mImportError\u001b[0m                               Traceback (most recent call last)",
      "\u001b[0;32m<ipython-input-1-190991a72cdd>\u001b[0m in \u001b[0;36m<module>\u001b[0;34m()\u001b[0m\n\u001b[1;32m      1\u001b[0m \u001b[0;32mimport\u001b[0m \u001b[0mpandas\u001b[0m \u001b[0;32mas\u001b[0m \u001b[0mpd\u001b[0m\u001b[0;34m\u001b[0m\u001b[0m\n\u001b[0;32m----> 2\u001b[0;31m \u001b[0;32mimport\u001b[0m \u001b[0mstatsmodels\u001b[0m\u001b[0;34m.\u001b[0m\u001b[0mformula\u001b[0m\u001b[0;34m.\u001b[0m\u001b[0mapi\u001b[0m \u001b[0;32mas\u001b[0m \u001b[0msmf\u001b[0m\u001b[0;34m\u001b[0m\u001b[0m\n\u001b[0m\u001b[1;32m      3\u001b[0m \u001b[0;32mimport\u001b[0m \u001b[0mstatsmodels\u001b[0m\u001b[0;34m.\u001b[0m\u001b[0mapi\u001b[0m \u001b[0;32mas\u001b[0m \u001b[0msm\u001b[0m\u001b[0;34m\u001b[0m\u001b[0m\n\u001b[1;32m      4\u001b[0m \u001b[0;32mimport\u001b[0m \u001b[0mnumpy\u001b[0m \u001b[0;32mas\u001b[0m \u001b[0mnp\u001b[0m\u001b[0;34m\u001b[0m\u001b[0m\n\u001b[1;32m      5\u001b[0m \u001b[0;34m\u001b[0m\u001b[0m\n",
      "\u001b[0;31mImportError\u001b[0m: No module named 'statsmodels'"
     ]
    }
   ],
   "source": [
    "import pandas as pd\n",
    "import statsmodels.formula.api as smf\n",
    "import statsmodels.api as sm\n",
    "import numpy as np\n",
    "\n",
    "import neiss\n",
    "import plotly.offline\n",
    "\n",
    "plotly.offline"
   ]
  },
  {
   "cell_type": "code",
   "execution_count": 2,
   "metadata": {
    "ExecuteTime": {
     "end_time": "2016-10-22T17:49:32.601254",
     "start_time": "2016-10-22T17:48:51.892930"
    },
    "collapsed": false
   },
   "outputs": [],
   "source": [
    "#loading in data and preparations\n",
    "raw = pd.read_csv('/home/datauser/cpsc/data/processed/neiss/neiss-2015.csv')\n",
    "cleaned = neiss.cleaner(raw)\n",
    "data = neiss.query(cleaned.processed_data, cleaned.crosstab)"
   ]
  },
  {
   "cell_type": "markdown",
   "metadata": {},
   "source": [
    "This analysis was done by DataKind DC on behalf of the Consumer Product Safety Commission. This serves as a preliminary study of the NEISS dataset. We have been been contact with the CPSC and figuring out what questions of importance that we can offer insight to. The questions that were analyzed were:\n",
    "\n",
    "  * Are there products we should be aware of?\n",
    "  * Are there differences between the sizes of hospitals?\n",
    "  * Are there differences where race was reported or between different races?"
   ]
  },
  {
   "cell_type": "markdown",
   "metadata": {},
   "source": [
    "## Are there products we should be aware of?\n",
    "\n",
    "To answer this question, I approached it two ways. One way is to tabulate the total number of producted queried by hospitals and another is to look at the top items reported by each item.\n",
    "\n",
    "The top ten producted reported by hospitals are listed below. It appears that 1842 and 1807 are the top products that most hospital report."
   ]
  },
  {
   "cell_type": "code",
   "execution_count": 3,
   "metadata": {
    "ExecuteTime": {
     "end_time": "2016-10-22T17:49:32.645880",
     "start_time": "2016-10-22T17:49:32.602508"
    },
    "collapsed": false
   },
   "outputs": [
    {
     "data": {
      "text/plain": [
       "product_1842    28712\n",
       "product_1807    28351\n",
       "product_4076    16784\n",
       "product_1205    14147\n",
       "product_5040    12787\n",
       "product_1211    11664\n",
       "product_4074     8271\n",
       "product_1884     7783\n",
       "product_1893     7723\n",
       "Name: product, dtype: int64"
      ]
     },
     "execution_count": 3,
     "metadata": {},
     "output_type": "execute_result"
    }
   ],
   "source": [
    "data.data['product'].value_counts()[0:9]"
   ]
  },
  {
   "cell_type": "markdown",
   "metadata": {
    "ExecuteTime": {
     "end_time": "2016-10-20T20:38:37.995745",
     "start_time": "2016-10-20T20:38:37.993333"
    }
   },
   "source": [
    " Looking further, I examine what hospitals report this the most, so we can examine hospitals that report these products the most."
   ]
  },
  {
   "cell_type": "code",
   "execution_count": 4,
   "metadata": {
    "ExecuteTime": {
     "end_time": "2016-10-22T17:49:32.684787",
     "start_time": "2016-10-22T17:49:32.647058"
    },
    "collapsed": false
   },
   "outputs": [
    {
     "data": {
      "text/plain": [
       "hosp_21    2132\n",
       "hosp_95    1762\n",
       "hosp_38    1171\n",
       "hosp_3     1104\n",
       "hosp_51     920\n",
       "hosp_61     920\n",
       "hosp_31     914\n",
       "hosp_17     777\n",
       "hosp_42     721\n",
       "Name: hospital, dtype: int64"
      ]
     },
     "execution_count": 4,
     "metadata": {},
     "output_type": "execute_result"
    }
   ],
   "source": [
    "data.get_hospitals_by_product('product_1842')"
   ]
  },
  {
   "cell_type": "code",
   "execution_count": 5,
   "metadata": {
    "ExecuteTime": {
     "end_time": "2016-10-22T17:49:32.718774",
     "start_time": "2016-10-22T17:49:32.685822"
    },
    "collapsed": false
   },
   "outputs": [
    {
     "data": {
      "text/plain": [
       "hosp_21    2281\n",
       "hosp_95    2043\n",
       "hosp_17    1679\n",
       "hosp_89    1598\n",
       "hosp_14    1495\n",
       "hosp_63    1109\n",
       "hosp_73    1071\n",
       "hosp_2      946\n",
       "hosp_42     785\n",
       "Name: hospital, dtype: int64"
      ]
     },
     "execution_count": 5,
     "metadata": {},
     "output_type": "execute_result"
    }
   ],
   "source": [
    "data.get_hospitals_by_product('product_1807')"
   ]
  },
  {
   "cell_type": "markdown",
   "metadata": {},
   "source": [
    "We can also view these as plots and compare the incident rates of these products through different hospitals"
   ]
  },
  {
   "cell_type": "code",
   "execution_count": 6,
   "metadata": {
    "ExecuteTime": {
     "end_time": "2016-10-22T17:49:33.825124",
     "start_time": "2016-10-22T17:49:32.720670"
    },
    "collapsed": false
   },
   "outputs": [
    {
     "data": {
      "text/html": [
       "<iframe id=\"igraph\" scrolling=\"no\" style=\"border:none;\" seamless=\"seamless\" src=\"https://plot.ly/~minh5/138.embed\" height=\"525px\" width=\"100%\"></iframe>"
      ],
      "text/plain": [
       "<plotly.tools.PlotlyDisplay object>"
      ]
     },
     "execution_count": 6,
     "metadata": {},
     "output_type": "execute_result"
    }
   ],
   "source": [
    "data.plot_product('product_1842')"
   ]
  },
  {
   "cell_type": "code",
   "execution_count": 7,
   "metadata": {
    "ExecuteTime": {
     "end_time": "2016-10-22T17:49:35.044897",
     "start_time": "2016-10-22T17:49:33.826736"
    },
    "collapsed": false
   },
   "outputs": [
    {
     "data": {
      "text/html": [
       "<iframe id=\"igraph\" scrolling=\"no\" style=\"border:none;\" seamless=\"seamless\" src=\"https://plot.ly/~minh5/140.embed\" height=\"525px\" width=\"100%\"></iframe>"
      ],
      "text/plain": [
       "<plotly.tools.PlotlyDisplay object>"
      ]
     },
     "execution_count": 7,
     "metadata": {},
     "output_type": "execute_result"
    }
   ],
   "source": [
    "data.plot_product('product_1807')"
   ]
  },
  {
   "cell_type": "markdown",
   "metadata": {},
   "source": [
    "Looking at these, it appears that there are some overlap between the hospitals. Hospital 17, 21, 42, and 95 are the 4 common hospital that are in the top ten of both these products. We will turn to a hospital examination down the road."
   ]
  },
  {
   "cell_type": "code",
   "execution_count": 8,
   "metadata": {
    "ExecuteTime": {
     "end_time": "2016-10-22T17:49:35.137659",
     "start_time": "2016-10-22T17:49:35.046585"
    },
    "collapsed": false
   },
   "outputs": [
    {
     "data": {
      "text/plain": [
       "{'hosp_17', 'hosp_21', 'hosp_42', 'hosp_95'}"
      ]
     },
     "execution_count": 8,
     "metadata": {},
     "output_type": "execute_result"
    }
   ],
   "source": [
    "set(data.get_hospitals_by_product('product_1842').index.tolist()) & set(data.get_hospitals_by_product('product_1807').index.tolist())"
   ]
  },
  {
   "cell_type": "markdown",
   "metadata": {},
   "source": [
    "## Could be useful to compare stratum types - Do large hospitals see different rates of injury than small hospitals?\n"
   ]
  },
  {
   "cell_type": "markdown",
   "metadata": {},
   "source": [
    "Another way of examining product harm would not only to count the total numbers of products but also to see what is the top product that is reported for each hosptial. Here we can look at not only the sheer number which could be due to over reporting or awareness but also to see if there are geographic differences for product harm. However, after examining this, we see that 70 out of the 82 hospitals surveyed have product 1842 and 1807 as the top product.\n",
    "\n",
    "However an interesting finding is that product_1267, product_3299, and product_3283 are in the top ten list of top products by hospital but not in the top ten overall. However, the number is small as it only affects 5 hospitals and 14,844 reported cases. It would be interesting to see where these five hospital are at and why these products are the top of their product harm.\n"
   ]
  },
  {
   "cell_type": "code",
   "execution_count": 9,
   "metadata": {
    "ExecuteTime": {
     "end_time": "2016-10-22T17:49:37.166861",
     "start_time": "2016-10-22T17:49:35.138905"
    },
    "collapsed": false
   },
   "outputs": [
    {
     "data": {
      "text/plain": [
       "product_1842    42\n",
       "product_1807    28\n",
       "product_4076     3\n",
       "product_1267     2\n",
       "product_1211     2\n",
       "product_5040     2\n",
       "product_3299     2\n",
       "product_3283     1\n",
       "dtype: int64"
      ]
     },
     "execution_count": 9,
     "metadata": {},
     "output_type": "execute_result"
    }
   ],
   "source": [
    "data.top_product_for_hospital()"
   ]
  },
  {
   "cell_type": "markdown",
   "metadata": {},
   "source": [
    "Another way of approaching would be to fit a Negative Binomial Regression to see if there are any meaningful differences between the sizes of the hospitals. I use a negative binomial regression rather than a poisson regression because there is strong evidence of overdispersion, that is, the variance of the data is much higher than the mean, as shown below. This also occurs across all stratum (only shown for small, medium, and large)."
   ]
  },
  {
   "cell_type": "code",
   "execution_count": 10,
   "metadata": {
    "ExecuteTime": {
     "end_time": "2016-10-22T17:49:37.255777",
     "start_time": "2016-10-22T17:49:37.168012"
    },
    "collapsed": false
   },
   "outputs": [
    {
     "name": "stdout",
     "output_type": "stream",
     "text": [
      "variance of product 1842 counts: 139451.173706\n",
      "mean of product 1842 counts: 350.146341463\n"
     ]
    }
   ],
   "source": [
    "counts = data.data.ix[data.data['product'] == 'product_1842',:]['hospital'].value_counts()\n",
    "print('variance of product 1842 counts:', np.var(counts.values))\n",
    "print('mean of product 1842 counts:', np.mean(counts.values))\n"
   ]
  },
  {
   "cell_type": "code",
   "execution_count": 11,
   "metadata": {
    "ExecuteTime": {
     "end_time": "2016-10-22T17:49:39.591013",
     "start_time": "2016-10-22T17:49:37.256951"
    },
    "collapsed": false,
    "scrolled": true
   },
   "outputs": [
    {
     "name": "stdout",
     "output_type": "stream",
     "text": [
      "Variance: 5805.36033951\n",
      "Mean: 90.0277777778\n"
     ]
    },
    {
     "data": {
      "text/html": [
       "<iframe id=\"igraph\" scrolling=\"no\" style=\"border:none;\" seamless=\"seamless\" src=\"https://plot.ly/~minh5/142.embed\" height=\"525px\" width=\"100%\"></iframe>"
      ],
      "text/plain": [
       "<plotly.tools.PlotlyDisplay object>"
      ]
     },
     "execution_count": 11,
     "metadata": {},
     "output_type": "execute_result"
    }
   ],
   "source": [
    "data.plot_stratum_dist('product_1842', 'S')"
   ]
  },
  {
   "cell_type": "code",
   "execution_count": 12,
   "metadata": {
    "ExecuteTime": {
     "end_time": "2016-10-22T17:49:40.932873",
     "start_time": "2016-10-22T17:49:39.592717"
    },
    "collapsed": false,
    "scrolled": true
   },
   "outputs": [
    {
     "name": "stdout",
     "output_type": "stream",
     "text": [
      "Variance: 18568.6666667\n",
      "Mean: 423.666666667\n"
     ]
    },
    {
     "data": {
      "text/html": [
       "<iframe id=\"igraph\" scrolling=\"no\" style=\"border:none;\" seamless=\"seamless\" src=\"https://plot.ly/~minh5/144.embed\" height=\"525px\" width=\"100%\"></iframe>"
      ],
      "text/plain": [
       "<plotly.tools.PlotlyDisplay object>"
      ]
     },
     "execution_count": 12,
     "metadata": {},
     "output_type": "execute_result"
    }
   ],
   "source": [
    "data.plot_stratum_dist('product_1842', 'M')"
   ]
  },
  {
   "cell_type": "code",
   "execution_count": 13,
   "metadata": {
    "ExecuteTime": {
     "end_time": "2016-10-22T17:49:42.644230",
     "start_time": "2016-10-22T17:49:40.934589"
    },
    "collapsed": false
   },
   "outputs": [
    {
     "name": "stdout",
     "output_type": "stream",
     "text": [
      "Variance: 68488.9795918\n",
      "Mean: 645.142857143\n"
     ]
    },
    {
     "data": {
      "text/html": [
       "<iframe id=\"igraph\" scrolling=\"no\" style=\"border:none;\" seamless=\"seamless\" src=\"https://plot.ly/~minh5/146.embed\" height=\"525px\" width=\"100%\"></iframe>"
      ],
      "text/plain": [
       "<plotly.tools.PlotlyDisplay object>"
      ]
     },
     "execution_count": 13,
     "metadata": {},
     "output_type": "execute_result"
    }
   ],
   "source": [
    "data.plot_stratum_dist('product_1842', 'L')"
   ]
  },
  {
   "cell_type": "code",
   "execution_count": 14,
   "metadata": {
    "ExecuteTime": {
     "end_time": "2016-10-22T17:49:42.837925",
     "start_time": "2016-10-22T17:49:42.645911"
    },
    "collapsed": false
   },
   "outputs": [
    {
     "data": {
      "text/html": [
       "<div>\n",
       "<table border=\"1\" class=\"dataframe\">\n",
       "  <thead>\n",
       "    <tr style=\"text-align: right;\">\n",
       "      <th></th>\n",
       "      <th>counts</th>\n",
       "      <th>hospital</th>\n",
       "      <th>stratum</th>\n",
       "    </tr>\n",
       "  </thead>\n",
       "  <tbody>\n",
       "    <tr>\n",
       "      <th>38</th>\n",
       "      <td>2132</td>\n",
       "      <td>hosp_21</td>\n",
       "      <td>V</td>\n",
       "    </tr>\n",
       "    <tr>\n",
       "      <th>13</th>\n",
       "      <td>1762</td>\n",
       "      <td>hosp_95</td>\n",
       "      <td>V</td>\n",
       "    </tr>\n",
       "    <tr>\n",
       "      <th>0</th>\n",
       "      <td>1171</td>\n",
       "      <td>hosp_38</td>\n",
       "      <td>V</td>\n",
       "    </tr>\n",
       "    <tr>\n",
       "      <th>42</th>\n",
       "      <td>1104</td>\n",
       "      <td>hosp_3</td>\n",
       "      <td>L</td>\n",
       "    </tr>\n",
       "    <tr>\n",
       "      <th>2</th>\n",
       "      <td>920</td>\n",
       "      <td>hosp_51</td>\n",
       "      <td>L</td>\n",
       "    </tr>\n",
       "  </tbody>\n",
       "</table>\n",
       "</div>"
      ],
      "text/plain": [
       "    counts hospital stratum\n",
       "38    2132  hosp_21       V\n",
       "13    1762  hosp_95       V\n",
       "0     1171  hosp_38       V\n",
       "42    1104   hosp_3       L\n",
       "2      920  hosp_51       L"
      ]
     },
     "execution_count": 14,
     "metadata": {},
     "output_type": "execute_result"
    }
   ],
   "source": [
    "df = data.prepare_stratum_modeling('product_1842')\n",
    "df.head()\n"
   ]
  },
  {
   "cell_type": "code",
   "execution_count": 15,
   "metadata": {
    "ExecuteTime": {
     "end_time": "2016-10-22T17:49:42.868479",
     "start_time": "2016-10-22T17:49:42.839212"
    },
    "collapsed": false
   },
   "outputs": [
    {
     "data": {
      "text/html": [
       "<table class=\"simpletable\">\n",
       "<caption>Generalized Linear Model Regression Results</caption>\n",
       "<tr>\n",
       "  <th>Dep. Variable:</th>       <td>counts</td>      <th>  No. Observations:  </th>     <td>    82</td>    \n",
       "</tr>\n",
       "<tr>\n",
       "  <th>Model:</th>                 <td>GLM</td>       <th>  Df Residuals:      </th>     <td>    77</td>    \n",
       "</tr>\n",
       "<tr>\n",
       "  <th>Model Family:</th>   <td>NegativeBinomial</td> <th>  Df Model:          </th>     <td>     4</td>    \n",
       "</tr>\n",
       "<tr>\n",
       "  <th>Link Function:</th>         <td>log</td>       <th>  Scale:             </th> <td>0.572368368102</td>\n",
       "</tr>\n",
       "<tr>\n",
       "  <th>Method:</th>               <td>IRLS</td>       <th>  Log-Likelihood:    </th>    <td> -534.00</td>   \n",
       "</tr>\n",
       "<tr>\n",
       "  <th>Date:</th>           <td>Sat, 22 Oct 2016</td> <th>  Deviance:          </th>    <td>  43.333</td>   \n",
       "</tr>\n",
       "<tr>\n",
       "  <th>Time:</th>               <td>17:49:42</td>     <th>  Pearson chi2:      </th>     <td>  44.1</td>    \n",
       "</tr>\n",
       "<tr>\n",
       "  <th>No. Iterations:</th>         <td>7</td>        <th>                     </th>        <td> </td>      \n",
       "</tr>\n",
       "</table>\n",
       "<table class=\"simpletable\">\n",
       "<tr>\n",
       "        <td></td>          <th>coef</th>     <th>std err</th>      <th>z</th>      <th>P>|z|</th> <th>[95.0% Conf. Int.]</th> \n",
       "</tr>\n",
       "<tr>\n",
       "  <th>Intercept</th>    <td>    6.0488</td> <td>    0.268</td> <td>   22.587</td> <td> 0.000</td> <td>    5.524     6.574</td>\n",
       "</tr>\n",
       "<tr>\n",
       "  <th>stratum[T.L]</th> <td>    0.4206</td> <td>    0.392</td> <td>    1.073</td> <td> 0.283</td> <td>   -0.348     1.189</td>\n",
       "</tr>\n",
       "<tr>\n",
       "  <th>stratum[T.M]</th> <td> 9.835e-05</td> <td>    0.368</td> <td>    0.000</td> <td> 1.000</td> <td>   -0.721     0.721</td>\n",
       "</tr>\n",
       "<tr>\n",
       "  <th>stratum[T.S]</th> <td>   -1.5487</td> <td>    0.296</td> <td>   -5.227</td> <td> 0.000</td> <td>   -2.129    -0.968</td>\n",
       "</tr>\n",
       "<tr>\n",
       "  <th>stratum[T.V]</th> <td>    0.3891</td> <td>    0.313</td> <td>    1.244</td> <td> 0.213</td> <td>   -0.224     1.002</td>\n",
       "</tr>\n",
       "</table>"
      ],
      "text/plain": [
       "<class 'statsmodels.iolib.summary.Summary'>\n",
       "\"\"\"\n",
       "                 Generalized Linear Model Regression Results                  \n",
       "==============================================================================\n",
       "Dep. Variable:                 counts   No. Observations:                   82\n",
       "Model:                            GLM   Df Residuals:                       77\n",
       "Model Family:        NegativeBinomial   Df Model:                            4\n",
       "Link Function:                    log   Scale:                  0.572368368102\n",
       "Method:                          IRLS   Log-Likelihood:                -534.00\n",
       "Date:                Sat, 22 Oct 2016   Deviance:                       43.333\n",
       "Time:                        17:49:42   Pearson chi2:                     44.1\n",
       "No. Iterations:                     7                                         \n",
       "================================================================================\n",
       "                   coef    std err          z      P>|z|      [95.0% Conf. Int.]\n",
       "--------------------------------------------------------------------------------\n",
       "Intercept        6.0488      0.268     22.587      0.000         5.524     6.574\n",
       "stratum[T.L]     0.4206      0.392      1.073      0.283        -0.348     1.189\n",
       "stratum[T.M]  9.835e-05      0.368      0.000      1.000        -0.721     0.721\n",
       "stratum[T.S]    -1.5487      0.296     -5.227      0.000        -2.129    -0.968\n",
       "stratum[T.V]     0.3891      0.313      1.244      0.213        -0.224     1.002\n",
       "================================================================================\n",
       "\"\"\""
      ]
     },
     "execution_count": 15,
     "metadata": {},
     "output_type": "execute_result"
    }
   ],
   "source": [
    "model = smf.glm(\"counts ~ stratum\", data=df,\n",
    "                family=sm.families.NegativeBinomial()).fit()\n",
    "model.summary()"
   ]
  },
  {
   "cell_type": "markdown",
   "metadata": {},
   "source": [
    "From the model, we see that there are only significant differences between Medium and Small hospital. Given the coefficients, the log count difference between Medium and Small hospitals is -1.55. Other than that there doesn't seem to be any other signficant differences between hospital sizes for Product 1842. \n",
    "\n",
    "We can do the same to examine the 2nd most reported product, Product 1807. Below I check the assumption to fit a negative binomial regression, that the variance is far greater than the mean. In this case we see that it is the case."
   ]
  },
  {
   "cell_type": "code",
   "execution_count": 16,
   "metadata": {
    "ExecuteTime": {
     "end_time": "2016-10-22T17:49:44.292443",
     "start_time": "2016-10-22T17:49:42.870454"
    },
    "collapsed": false,
    "scrolled": true
   },
   "outputs": [
    {
     "name": "stdout",
     "output_type": "stream",
     "text": [
      "Variance: 36427.9183673\n",
      "Mean: 112.285714286\n"
     ]
    },
    {
     "data": {
      "text/html": [
       "<iframe id=\"igraph\" scrolling=\"no\" style=\"border:none;\" seamless=\"seamless\" src=\"https://plot.ly/~minh5/148.embed\" height=\"525px\" width=\"100%\"></iframe>"
      ],
      "text/plain": [
       "<plotly.tools.PlotlyDisplay object>"
      ]
     },
     "execution_count": 16,
     "metadata": {},
     "output_type": "execute_result"
    }
   ],
   "source": [
    "data.plot_stratum_dist('product_1807', 'S')\n"
   ]
  },
  {
   "cell_type": "code",
   "execution_count": 17,
   "metadata": {
    "ExecuteTime": {
     "end_time": "2016-10-22T17:49:45.471198",
     "start_time": "2016-10-22T17:49:44.294273"
    },
    "collapsed": false
   },
   "outputs": [
    {
     "name": "stdout",
     "output_type": "stream",
     "text": [
      "Variance: 193238.469136\n",
      "Mean: 522.555555556\n"
     ]
    },
    {
     "data": {
      "text/html": [
       "<iframe id=\"igraph\" scrolling=\"no\" style=\"border:none;\" seamless=\"seamless\" src=\"https://plot.ly/~minh5/150.embed\" height=\"525px\" width=\"100%\"></iframe>"
      ],
      "text/plain": [
       "<plotly.tools.PlotlyDisplay object>"
      ]
     },
     "execution_count": 17,
     "metadata": {},
     "output_type": "execute_result"
    }
   ],
   "source": [
    "data.plot_stratum_dist('product_1807', 'M')"
   ]
  },
  {
   "cell_type": "code",
   "execution_count": 18,
   "metadata": {
    "ExecuteTime": {
     "end_time": "2016-10-22T17:49:46.754253",
     "start_time": "2016-10-22T17:49:45.473527"
    },
    "collapsed": false
   },
   "outputs": [
    {
     "name": "stdout",
     "output_type": "stream",
     "text": [
      "Variance: 177492.77551\n",
      "Mean: 658.714285714\n"
     ]
    },
    {
     "data": {
      "text/html": [
       "<iframe id=\"igraph\" scrolling=\"no\" style=\"border:none;\" seamless=\"seamless\" src=\"https://plot.ly/~minh5/152.embed\" height=\"525px\" width=\"100%\"></iframe>"
      ],
      "text/plain": [
       "<plotly.tools.PlotlyDisplay object>"
      ]
     },
     "execution_count": 18,
     "metadata": {},
     "output_type": "execute_result"
    }
   ],
   "source": [
    "data.plot_stratum_dist('product_1807', 'L')"
   ]
  },
  {
   "cell_type": "markdown",
   "metadata": {},
   "source": [
    "The assumptions have been met and after building the model, we see very similar results as the previous model, that there are only significant differences between the small and large hospitals. For future research, we can use similar techniques to see significant differences between hospital sizes for all products."
   ]
  },
  {
   "cell_type": "code",
   "execution_count": 19,
   "metadata": {
    "ExecuteTime": {
     "end_time": "2016-10-22T17:49:46.957282",
     "start_time": "2016-10-22T17:49:46.756045"
    },
    "collapsed": false
   },
   "outputs": [
    {
     "data": {
      "text/html": [
       "<table class=\"simpletable\">\n",
       "<caption>Generalized Linear Model Regression Results</caption>\n",
       "<tr>\n",
       "  <th>Dep. Variable:</th>       <td>counts</td>      <th>  No. Observations:  </th>     <td>    82</td>    \n",
       "</tr>\n",
       "<tr>\n",
       "  <th>Model:</th>                 <td>GLM</td>       <th>  Df Residuals:      </th>     <td>    77</td>    \n",
       "</tr>\n",
       "<tr>\n",
       "  <th>Model Family:</th>   <td>NegativeBinomial</td> <th>  Df Model:          </th>     <td>     4</td>    \n",
       "</tr>\n",
       "<tr>\n",
       "  <th>Link Function:</th>         <td>log</td>       <th>  Scale:             </th> <td>0.572368368102</td>\n",
       "</tr>\n",
       "<tr>\n",
       "  <th>Method:</th>               <td>IRLS</td>       <th>  Log-Likelihood:    </th>    <td> -534.00</td>   \n",
       "</tr>\n",
       "<tr>\n",
       "  <th>Date:</th>           <td>Sat, 22 Oct 2016</td> <th>  Deviance:          </th>    <td>  43.333</td>   \n",
       "</tr>\n",
       "<tr>\n",
       "  <th>Time:</th>               <td>17:49:46</td>     <th>  Pearson chi2:      </th>     <td>  44.1</td>    \n",
       "</tr>\n",
       "<tr>\n",
       "  <th>No. Iterations:</th>         <td>7</td>        <th>                     </th>        <td> </td>      \n",
       "</tr>\n",
       "</table>\n",
       "<table class=\"simpletable\">\n",
       "<tr>\n",
       "        <td></td>          <th>coef</th>     <th>std err</th>      <th>z</th>      <th>P>|z|</th> <th>[95.0% Conf. Int.]</th> \n",
       "</tr>\n",
       "<tr>\n",
       "  <th>Intercept</th>    <td>    6.0488</td> <td>    0.268</td> <td>   22.587</td> <td> 0.000</td> <td>    5.524     6.574</td>\n",
       "</tr>\n",
       "<tr>\n",
       "  <th>stratum[T.L]</th> <td>    0.4206</td> <td>    0.392</td> <td>    1.073</td> <td> 0.283</td> <td>   -0.348     1.189</td>\n",
       "</tr>\n",
       "<tr>\n",
       "  <th>stratum[T.M]</th> <td> 9.835e-05</td> <td>    0.368</td> <td>    0.000</td> <td> 1.000</td> <td>   -0.721     0.721</td>\n",
       "</tr>\n",
       "<tr>\n",
       "  <th>stratum[T.S]</th> <td>   -1.5487</td> <td>    0.296</td> <td>   -5.227</td> <td> 0.000</td> <td>   -2.129    -0.968</td>\n",
       "</tr>\n",
       "<tr>\n",
       "  <th>stratum[T.V]</th> <td>    0.3891</td> <td>    0.313</td> <td>    1.244</td> <td> 0.213</td> <td>   -0.224     1.002</td>\n",
       "</tr>\n",
       "</table>"
      ],
      "text/plain": [
       "<class 'statsmodels.iolib.summary.Summary'>\n",
       "\"\"\"\n",
       "                 Generalized Linear Model Regression Results                  \n",
       "==============================================================================\n",
       "Dep. Variable:                 counts   No. Observations:                   82\n",
       "Model:                            GLM   Df Residuals:                       77\n",
       "Model Family:        NegativeBinomial   Df Model:                            4\n",
       "Link Function:                    log   Scale:                  0.572368368102\n",
       "Method:                          IRLS   Log-Likelihood:                -534.00\n",
       "Date:                Sat, 22 Oct 2016   Deviance:                       43.333\n",
       "Time:                        17:49:46   Pearson chi2:                     44.1\n",
       "No. Iterations:                     7                                         \n",
       "================================================================================\n",
       "                   coef    std err          z      P>|z|      [95.0% Conf. Int.]\n",
       "--------------------------------------------------------------------------------\n",
       "Intercept        6.0488      0.268     22.587      0.000         5.524     6.574\n",
       "stratum[T.L]     0.4206      0.392      1.073      0.283        -0.348     1.189\n",
       "stratum[T.M]  9.835e-05      0.368      0.000      1.000        -0.721     0.721\n",
       "stratum[T.S]    -1.5487      0.296     -5.227      0.000        -2.129    -0.968\n",
       "stratum[T.V]     0.3891      0.313      1.244      0.213        -0.224     1.002\n",
       "================================================================================\n",
       "\"\"\""
      ]
     },
     "execution_count": 19,
     "metadata": {},
     "output_type": "execute_result"
    }
   ],
   "source": [
    "df2 = data.prepare_stratum_modeling('product_1807')\n",
    "model = smf.glm(\"counts ~ stratum\", data=df,\n",
    "                family=sm.families.NegativeBinomial()).fit()\n",
    "model.summary()"
   ]
  },
  {
   "cell_type": "markdown",
   "metadata": {},
   "source": [
    "## Do we see meaningful trends when race is reported?\n"
   ]
  },
  {
   "cell_type": "markdown",
   "metadata": {},
   "source": [
    "From the top items, we don't see any meaningful differences between the top ten items for people who have race reported and race not reported. Even among the data where we do have race reported, there doesn't seem to be much variation when it comes to the top ten products causes most harm."
   ]
  },
  {
   "cell_type": "code",
   "execution_count": 23,
   "metadata": {
    "ExecuteTime": {
     "end_time": "2016-10-22T17:55:26.068807",
     "start_time": "2016-10-22T17:55:25.961121"
    },
    "collapsed": false
   },
   "outputs": [
    {
     "data": {
      "text/plain": [
       "product_1842    17393\n",
       "product_1807    15691\n",
       "product_4076    10108\n",
       "product_1205     9108\n",
       "product_5040     7939\n",
       "product_1211     7872\n",
       "product_4074     5142\n",
       "product_1884     4877\n",
       "product_1893     4874\n",
       "Name: product, dtype: int64"
      ]
     },
     "execution_count": 23,
     "metadata": {},
     "output_type": "execute_result"
    }
   ],
   "source": [
    "data.retrieve_query('race_reported', 'reported', 'product')"
   ]
  },
  {
   "cell_type": "code",
   "execution_count": 24,
   "metadata": {
    "ExecuteTime": {
     "end_time": "2016-10-22T17:55:28.333203",
     "start_time": "2016-10-22T17:55:28.229390"
    },
    "collapsed": false
   },
   "outputs": [
    {
     "data": {
      "text/plain": [
       "product_1807    12660\n",
       "product_1842    11319\n",
       "product_4076     6676\n",
       "product_1205     5039\n",
       "product_5040     4848\n",
       "product_1211     3792\n",
       "product_3299     3715\n",
       "product_4074     3129\n",
       "product_611      3018\n",
       "Name: product, dtype: int64"
      ]
     },
     "execution_count": 24,
     "metadata": {},
     "output_type": "execute_result"
    }
   ],
   "source": [
    "data.retrieve_query('race_reported', 'not reported', 'product')"
   ]
  },
  {
   "cell_type": "code",
   "execution_count": 25,
   "metadata": {
    "ExecuteTime": {
     "end_time": "2016-10-22T18:10:37.784074",
     "start_time": "2016-10-22T18:10:37.546588"
    },
    "collapsed": false
   },
   "outputs": [
    {
     "name": "stdout",
     "output_type": "stream",
     "text": [
      "white\n",
      "product_1807    11719\n",
      "product_1842    11388\n",
      "product_4076     6523\n",
      "product_5040     5026\n",
      "product_1211     4125\n",
      "product_1205     3867\n",
      "product_4074     3560\n",
      "product_464      3104\n",
      "product_4057     3008\n",
      "Name: product, dtype: int64\n",
      "black\n",
      "product_1842    4389\n",
      "product_1205    4267\n",
      "product_1211    3048\n",
      "product_1807    2615\n",
      "product_4076    2302\n",
      "product_5040    1882\n",
      "product_1893    1462\n",
      "product_1884    1332\n",
      "product_4057    1039\n",
      "Name: product, dtype: int64\n",
      "hispanic\n",
      "product_1842    936\n",
      "product_1267    798\n",
      "product_4076    730\n",
      "product_1807    639\n",
      "product_5040    555\n",
      "product_1205    484\n",
      "product_1211    389\n",
      "product_1884    352\n",
      "product_4074    310\n",
      "Name: product, dtype: int64\n",
      "other\n",
      "product_1807    13378\n",
      "product_1842    11999\n",
      "product_4076     7229\n",
      "product_1205     5529\n",
      "product_5040     5324\n",
      "product_1211     4102\n",
      "product_3299     3887\n",
      "product_4074     3381\n",
      "product_611      3199\n",
      "Name: product, dtype: int64\n"
     ]
    }
   ],
   "source": [
    "races = ['white', 'black', 'hispanic', 'other']\n",
    "for race in races:\n",
    "    print(race)\n",
    "    print(data.retrieve_query('new_race', race, 'product'))"
   ]
  },
  {
   "cell_type": "markdown",
   "metadata": {},
   "source": [
    "## Conclusion"
   ]
  },
  {
   "cell_type": "markdown",
   "metadata": {},
   "source": [
    "The analysis here is still preliminary and exploratory. Most of the analysis revolved around two product, Product 1842 and 1807, because they vastly outnumbered all the other reported products. Future analysis could include running more negative binomial or Poisson (if the mean and variance are similar) regression and more standard hypothesis tests to see evaluate statistical significant differences. One question that I could not answer is to figure out any regional differences because we do not know the exact location of the hospital. \n",
    "\n",
    "We have also attached a document that conducts a much more comprehensive break down of product harm by various segments. This document serves as a starting point for all the analysis done here and will be a value reference for any future research on the NEISS dataset."
   ]
  }
 ],
 "metadata": {
  "kernelspec": {
   "display_name": "Python 3",
   "language": "python",
   "name": "python3"
  },
  "language_info": {
   "codemirror_mode": {
    "name": "ipython",
    "version": 3
   },
   "file_extension": ".py",
   "mimetype": "text/x-python",
   "name": "python",
   "nbconvert_exporter": "python",
   "pygments_lexer": "ipython3",
   "version": "3.5.2"
  },
  "nav_menu": {},
  "toc": {
   "nav_menu": {
    "height": "99px",
    "width": "252px"
   },
   "navigate_menu": true,
   "number_sections": true,
   "sideBar": false,
   "threshold": 6,
   "toc_cell": true,
   "toc_section_display": "none",
   "toc_window_display": false
  },
  "toc_position": {
   "height": "40px",
   "left": "119px",
   "right": "20px",
   "top": "118px",
   "width": "263px"
  }
 },
 "nbformat": 4,
 "nbformat_minor": 0
}
